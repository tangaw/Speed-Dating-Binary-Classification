{
 "cells": [
  {
   "cell_type": "markdown",
   "metadata": {},
   "source": [
    "# Speed Dating and the Dynamics of a Successful Match"
   ]
  },
  {
   "cell_type": "markdown",
   "metadata": {},
   "source": [
    "Link to dataset on OpenML.org including description of variables: https://www.openml.org/d/40536"
   ]
  },
  {
   "cell_type": "code",
   "execution_count": 1,
   "metadata": {},
   "outputs": [],
   "source": [
    "import pandas as pd\n",
    "import numpy as np\n",
    "import matplotlib.pyplot as plt\n",
    "import seaborn as sns\n",
    "%matplotlib inline"
   ]
  },
  {
   "cell_type": "code",
   "execution_count": 2,
   "metadata": {},
   "outputs": [],
   "source": [
    "df = pd.read_csv('https://raw.githubusercontent.com/datasets/speed-dating/master/data/speed-dating.csv')"
   ]
  },
  {
   "cell_type": "code",
   "execution_count": 3,
   "metadata": {},
   "outputs": [
    {
     "data": {
      "text/html": [
       "<div>\n",
       "<style scoped>\n",
       "    .dataframe tbody tr th:only-of-type {\n",
       "        vertical-align: middle;\n",
       "    }\n",
       "\n",
       "    .dataframe tbody tr th {\n",
       "        vertical-align: top;\n",
       "    }\n",
       "\n",
       "    .dataframe thead th {\n",
       "        text-align: right;\n",
       "    }\n",
       "</style>\n",
       "<table border=\"1\" class=\"dataframe\">\n",
       "  <thead>\n",
       "    <tr style=\"text-align: right;\">\n",
       "      <th></th>\n",
       "      <th>has_null</th>\n",
       "      <th>wave</th>\n",
       "      <th>gender</th>\n",
       "      <th>age</th>\n",
       "      <th>age_o</th>\n",
       "      <th>d_age</th>\n",
       "      <th>d_d_age</th>\n",
       "      <th>race</th>\n",
       "      <th>race_o</th>\n",
       "      <th>samerace</th>\n",
       "      <th>...</th>\n",
       "      <th>d_expected_num_interested_in_me</th>\n",
       "      <th>d_expected_num_matches</th>\n",
       "      <th>like</th>\n",
       "      <th>guess_prob_liked</th>\n",
       "      <th>d_like</th>\n",
       "      <th>d_guess_prob_liked</th>\n",
       "      <th>met</th>\n",
       "      <th>decision</th>\n",
       "      <th>decision_o</th>\n",
       "      <th>match</th>\n",
       "    </tr>\n",
       "  </thead>\n",
       "  <tbody>\n",
       "    <tr>\n",
       "      <th>0</th>\n",
       "      <td>0</td>\n",
       "      <td>1</td>\n",
       "      <td>female</td>\n",
       "      <td>21.0</td>\n",
       "      <td>27.0</td>\n",
       "      <td>6</td>\n",
       "      <td>[4-6]</td>\n",
       "      <td>'asian/pacific islander/asian-american'</td>\n",
       "      <td>european/caucasian-american</td>\n",
       "      <td>0</td>\n",
       "      <td>...</td>\n",
       "      <td>[0-3]</td>\n",
       "      <td>[3-5]</td>\n",
       "      <td>7.0</td>\n",
       "      <td>6.0</td>\n",
       "      <td>[6-8]</td>\n",
       "      <td>[5-6]</td>\n",
       "      <td>0.0</td>\n",
       "      <td>1</td>\n",
       "      <td>0</td>\n",
       "      <td>0</td>\n",
       "    </tr>\n",
       "    <tr>\n",
       "      <th>1</th>\n",
       "      <td>0</td>\n",
       "      <td>1</td>\n",
       "      <td>female</td>\n",
       "      <td>21.0</td>\n",
       "      <td>22.0</td>\n",
       "      <td>1</td>\n",
       "      <td>[0-1]</td>\n",
       "      <td>'asian/pacific islander/asian-american'</td>\n",
       "      <td>european/caucasian-american</td>\n",
       "      <td>0</td>\n",
       "      <td>...</td>\n",
       "      <td>[0-3]</td>\n",
       "      <td>[3-5]</td>\n",
       "      <td>7.0</td>\n",
       "      <td>5.0</td>\n",
       "      <td>[6-8]</td>\n",
       "      <td>[5-6]</td>\n",
       "      <td>1.0</td>\n",
       "      <td>1</td>\n",
       "      <td>0</td>\n",
       "      <td>0</td>\n",
       "    </tr>\n",
       "    <tr>\n",
       "      <th>2</th>\n",
       "      <td>1</td>\n",
       "      <td>1</td>\n",
       "      <td>female</td>\n",
       "      <td>21.0</td>\n",
       "      <td>22.0</td>\n",
       "      <td>1</td>\n",
       "      <td>[0-1]</td>\n",
       "      <td>'asian/pacific islander/asian-american'</td>\n",
       "      <td>'asian/pacific islander/asian-american'</td>\n",
       "      <td>1</td>\n",
       "      <td>...</td>\n",
       "      <td>[0-3]</td>\n",
       "      <td>[3-5]</td>\n",
       "      <td>7.0</td>\n",
       "      <td>NaN</td>\n",
       "      <td>[6-8]</td>\n",
       "      <td>[0-4]</td>\n",
       "      <td>1.0</td>\n",
       "      <td>1</td>\n",
       "      <td>1</td>\n",
       "      <td>1</td>\n",
       "    </tr>\n",
       "    <tr>\n",
       "      <th>3</th>\n",
       "      <td>0</td>\n",
       "      <td>1</td>\n",
       "      <td>female</td>\n",
       "      <td>21.0</td>\n",
       "      <td>23.0</td>\n",
       "      <td>2</td>\n",
       "      <td>[2-3]</td>\n",
       "      <td>'asian/pacific islander/asian-american'</td>\n",
       "      <td>european/caucasian-american</td>\n",
       "      <td>0</td>\n",
       "      <td>...</td>\n",
       "      <td>[0-3]</td>\n",
       "      <td>[3-5]</td>\n",
       "      <td>7.0</td>\n",
       "      <td>6.0</td>\n",
       "      <td>[6-8]</td>\n",
       "      <td>[5-6]</td>\n",
       "      <td>0.0</td>\n",
       "      <td>1</td>\n",
       "      <td>1</td>\n",
       "      <td>1</td>\n",
       "    </tr>\n",
       "    <tr>\n",
       "      <th>4</th>\n",
       "      <td>0</td>\n",
       "      <td>1</td>\n",
       "      <td>female</td>\n",
       "      <td>21.0</td>\n",
       "      <td>24.0</td>\n",
       "      <td>3</td>\n",
       "      <td>[2-3]</td>\n",
       "      <td>'asian/pacific islander/asian-american'</td>\n",
       "      <td>'latino/hispanic american'</td>\n",
       "      <td>0</td>\n",
       "      <td>...</td>\n",
       "      <td>[0-3]</td>\n",
       "      <td>[3-5]</td>\n",
       "      <td>6.0</td>\n",
       "      <td>6.0</td>\n",
       "      <td>[6-8]</td>\n",
       "      <td>[5-6]</td>\n",
       "      <td>0.0</td>\n",
       "      <td>1</td>\n",
       "      <td>1</td>\n",
       "      <td>1</td>\n",
       "    </tr>\n",
       "  </tbody>\n",
       "</table>\n",
       "<p>5 rows × 123 columns</p>\n",
       "</div>"
      ],
      "text/plain": [
       "   has_null  wave  gender   age  age_o  d_age d_d_age  \\\n",
       "0         0     1  female  21.0   27.0      6   [4-6]   \n",
       "1         0     1  female  21.0   22.0      1   [0-1]   \n",
       "2         1     1  female  21.0   22.0      1   [0-1]   \n",
       "3         0     1  female  21.0   23.0      2   [2-3]   \n",
       "4         0     1  female  21.0   24.0      3   [2-3]   \n",
       "\n",
       "                                      race  \\\n",
       "0  'asian/pacific islander/asian-american'   \n",
       "1  'asian/pacific islander/asian-american'   \n",
       "2  'asian/pacific islander/asian-american'   \n",
       "3  'asian/pacific islander/asian-american'   \n",
       "4  'asian/pacific islander/asian-american'   \n",
       "\n",
       "                                    race_o  samerace  ...  \\\n",
       "0              european/caucasian-american         0  ...   \n",
       "1              european/caucasian-american         0  ...   \n",
       "2  'asian/pacific islander/asian-american'         1  ...   \n",
       "3              european/caucasian-american         0  ...   \n",
       "4               'latino/hispanic american'         0  ...   \n",
       "\n",
       "   d_expected_num_interested_in_me  d_expected_num_matches like  \\\n",
       "0                            [0-3]                   [3-5]  7.0   \n",
       "1                            [0-3]                   [3-5]  7.0   \n",
       "2                            [0-3]                   [3-5]  7.0   \n",
       "3                            [0-3]                   [3-5]  7.0   \n",
       "4                            [0-3]                   [3-5]  6.0   \n",
       "\n",
       "  guess_prob_liked d_like  d_guess_prob_liked  met  decision  decision_o  \\\n",
       "0              6.0  [6-8]               [5-6]  0.0         1           0   \n",
       "1              5.0  [6-8]               [5-6]  1.0         1           0   \n",
       "2              NaN  [6-8]               [0-4]  1.0         1           1   \n",
       "3              6.0  [6-8]               [5-6]  0.0         1           1   \n",
       "4              6.0  [6-8]               [5-6]  0.0         1           1   \n",
       "\n",
       "   match  \n",
       "0      0  \n",
       "1      0  \n",
       "2      1  \n",
       "3      1  \n",
       "4      1  \n",
       "\n",
       "[5 rows x 123 columns]"
      ]
     },
     "execution_count": 3,
     "metadata": {},
     "output_type": "execute_result"
    }
   ],
   "source": [
    "df.head()"
   ]
  },
  {
   "cell_type": "code",
   "execution_count": 4,
   "metadata": {},
   "outputs": [
    {
     "data": {
      "text/plain": [
       "(8378, 123)"
      ]
     },
     "execution_count": 4,
     "metadata": {},
     "output_type": "execute_result"
    }
   ],
   "source": [
    "df.shape"
   ]
  },
  {
   "cell_type": "code",
   "execution_count": 5,
   "metadata": {},
   "outputs": [
    {
     "data": {
      "text/plain": [
       "Index(['has_null', 'wave', 'gender', 'age', 'age_o', 'd_age', 'd_d_age',\n",
       "       'race', 'race_o', 'samerace',\n",
       "       ...\n",
       "       'd_expected_num_interested_in_me', 'd_expected_num_matches', 'like',\n",
       "       'guess_prob_liked', 'd_like', 'd_guess_prob_liked', 'met', 'decision',\n",
       "       'decision_o', 'match'],\n",
       "      dtype='object', length=123)"
      ]
     },
     "execution_count": 5,
     "metadata": {},
     "output_type": "execute_result"
    }
   ],
   "source": [
    "df.columns"
   ]
  },
  {
   "cell_type": "markdown",
   "metadata": {},
   "source": [
    "###### <br>"
   ]
  },
  {
   "cell_type": "markdown",
   "metadata": {},
   "source": [
    "## Data cleaning"
   ]
  },
  {
   "cell_type": "markdown",
   "metadata": {},
   "source": [
    "A significant portion of columns, specifically the ones that start with 'd_', are columns that act as the nominal counterparts to certain columns. Will be removing them due to limited usefulness for our case, and to reduce dimensions when fitting a model."
   ]
  },
  {
   "cell_type": "code",
   "execution_count": 6,
   "metadata": {},
   "outputs": [],
   "source": [
    "# Renaming column to avoid being filtered out by ensuing regular expression\n",
    "df = df.rename(columns={'d_age': 'dif_age'})"
   ]
  },
  {
   "cell_type": "code",
   "execution_count": 7,
   "metadata": {},
   "outputs": [
    {
     "data": {
      "text/plain": [
       "(8378, 68)"
      ]
     },
     "execution_count": 7,
     "metadata": {},
     "output_type": "execute_result"
    }
   ],
   "source": [
    "# Dropping all columns prefixed with 'd_'\n",
    "df = df.loc[:,~df.columns.str.startswith('d_')]\n",
    "df.shape"
   ]
  },
  {
   "cell_type": "code",
   "execution_count": 8,
   "metadata": {},
   "outputs": [
    {
     "data": {
      "text/plain": [
       "(8378, 67)"
      ]
     },
     "execution_count": 8,
     "metadata": {},
     "output_type": "execute_result"
    }
   ],
   "source": [
    "# Drop columns with more than half null values\n",
    "df = df.dropna(thresh=(0.5 * len(df)), axis=1)\n",
    "df.shape"
   ]
  },
  {
   "cell_type": "code",
   "execution_count": null,
   "metadata": {},
   "outputs": [],
   "source": [
    "df.info()"
   ]
  },
  {
   "cell_type": "markdown",
   "metadata": {},
   "source": [
    "###### <br>"
   ]
  },
  {
   "cell_type": "markdown",
   "metadata": {},
   "source": [
    "'Field', 'Race', 'Race_o' are the only non-numerical columns with a relatively low amount of null values. Dropping rows with null values on either of the three aforementioned columns. Also choosing not to fill null values on 'field' with 'no field' since I am not sure whether there was an option for 'no field' on the survey."
   ]
  },
  {
   "cell_type": "code",
   "execution_count": 10,
   "metadata": {},
   "outputs": [],
   "source": [
    "# Fix typos on a few columns names\n",
    "df = df.rename(columns={'sinsere_o': 'sincere_o',\n",
    "                       'ambitous_o': 'ambitious_o',\n",
    "                       'intellicence_important': 'intelligence_important',\n",
    "                       'ambtition_important': 'ambition_important'})"
   ]
  },
  {
   "cell_type": "code",
   "execution_count": 11,
   "metadata": {},
   "outputs": [
    {
     "data": {
      "text/plain": [
       "(8242, 68)"
      ]
     },
     "execution_count": 11,
     "metadata": {},
     "output_type": "execute_result"
    }
   ],
   "source": [
    "df = df.dropna(subset=['field', 'race', 'race_o'], axis=0).reset_index()\n",
    "df.shape"
   ]
  },
  {
   "cell_type": "code",
   "execution_count": null,
   "metadata": {},
   "outputs": [],
   "source": [
    "df.info()"
   ]
  },
  {
   "cell_type": "code",
   "execution_count": 13,
   "metadata": {},
   "outputs": [
    {
     "data": {
      "text/html": [
       "<div>\n",
       "<style scoped>\n",
       "    .dataframe tbody tr th:only-of-type {\n",
       "        vertical-align: middle;\n",
       "    }\n",
       "\n",
       "    .dataframe tbody tr th {\n",
       "        vertical-align: top;\n",
       "    }\n",
       "\n",
       "    .dataframe thead th {\n",
       "        text-align: right;\n",
       "    }\n",
       "</style>\n",
       "<table border=\"1\" class=\"dataframe\">\n",
       "  <thead>\n",
       "    <tr style=\"text-align: right;\">\n",
       "      <th></th>\n",
       "      <th>age</th>\n",
       "      <th>age_o</th>\n",
       "      <th>dif_age</th>\n",
       "    </tr>\n",
       "  </thead>\n",
       "  <tbody>\n",
       "    <tr>\n",
       "      <th>1769</th>\n",
       "      <td>NaN</td>\n",
       "      <td>20.0</td>\n",
       "      <td>20</td>\n",
       "    </tr>\n",
       "    <tr>\n",
       "      <th>1770</th>\n",
       "      <td>NaN</td>\n",
       "      <td>21.0</td>\n",
       "      <td>21</td>\n",
       "    </tr>\n",
       "    <tr>\n",
       "      <th>1771</th>\n",
       "      <td>NaN</td>\n",
       "      <td>20.0</td>\n",
       "      <td>20</td>\n",
       "    </tr>\n",
       "    <tr>\n",
       "      <th>1772</th>\n",
       "      <td>NaN</td>\n",
       "      <td>21.0</td>\n",
       "      <td>21</td>\n",
       "    </tr>\n",
       "    <tr>\n",
       "      <th>1773</th>\n",
       "      <td>NaN</td>\n",
       "      <td>21.0</td>\n",
       "      <td>21</td>\n",
       "    </tr>\n",
       "  </tbody>\n",
       "</table>\n",
       "</div>"
      ],
      "text/plain": [
       "      age  age_o  dif_age\n",
       "1769  NaN   20.0       20\n",
       "1770  NaN   21.0       21\n",
       "1771  NaN   20.0       20\n",
       "1772  NaN   21.0       21\n",
       "1773  NaN   21.0       21"
      ]
     },
     "execution_count": 13,
     "metadata": {},
     "output_type": "execute_result"
    }
   ],
   "source": [
    "# Check age columns to see if missing data can be filled with simple arithmetic\n",
    "age = df[df['age'].isnull()].loc[:, ['age', 'age_o', 'dif_age']]\n",
    "age.head()"
   ]
  },
  {
   "cell_type": "code",
   "execution_count": 14,
   "metadata": {},
   "outputs": [
    {
     "data": {
      "text/html": [
       "<div>\n",
       "<style scoped>\n",
       "    .dataframe tbody tr th:only-of-type {\n",
       "        vertical-align: middle;\n",
       "    }\n",
       "\n",
       "    .dataframe tbody tr th {\n",
       "        vertical-align: top;\n",
       "    }\n",
       "\n",
       "    .dataframe thead th {\n",
       "        text-align: right;\n",
       "    }\n",
       "</style>\n",
       "<table border=\"1\" class=\"dataframe\">\n",
       "  <thead>\n",
       "    <tr style=\"text-align: right;\">\n",
       "      <th></th>\n",
       "      <th>age</th>\n",
       "      <th>age_o</th>\n",
       "      <th>dif_age</th>\n",
       "    </tr>\n",
       "  </thead>\n",
       "  <tbody>\n",
       "    <tr>\n",
       "      <th>1623</th>\n",
       "      <td>20.0</td>\n",
       "      <td>NaN</td>\n",
       "      <td>20</td>\n",
       "    </tr>\n",
       "    <tr>\n",
       "      <th>1633</th>\n",
       "      <td>21.0</td>\n",
       "      <td>NaN</td>\n",
       "      <td>21</td>\n",
       "    </tr>\n",
       "    <tr>\n",
       "      <th>1643</th>\n",
       "      <td>20.0</td>\n",
       "      <td>NaN</td>\n",
       "      <td>20</td>\n",
       "    </tr>\n",
       "    <tr>\n",
       "      <th>1653</th>\n",
       "      <td>21.0</td>\n",
       "      <td>NaN</td>\n",
       "      <td>21</td>\n",
       "    </tr>\n",
       "    <tr>\n",
       "      <th>1663</th>\n",
       "      <td>21.0</td>\n",
       "      <td>NaN</td>\n",
       "      <td>21</td>\n",
       "    </tr>\n",
       "  </tbody>\n",
       "</table>\n",
       "</div>"
      ],
      "text/plain": [
       "       age  age_o  dif_age\n",
       "1623  20.0    NaN       20\n",
       "1633  21.0    NaN       21\n",
       "1643  20.0    NaN       20\n",
       "1653  21.0    NaN       21\n",
       "1663  21.0    NaN       21"
      ]
     },
     "execution_count": 14,
     "metadata": {},
     "output_type": "execute_result"
    }
   ],
   "source": [
    "age_o = df[df['age_o'].isnull()].loc[:, ['age', 'age_o', 'dif_age']]\n",
    "age_o.head()"
   ]
  },
  {
   "cell_type": "markdown",
   "metadata": {},
   "source": [
    "Looking at rows with either null 'age' or null 'age_o', it appears the age difference column merely copies the non-null age column instead of providing a difference value, which makes sense since there should be no data to compute the difference off of. Based on findings, dropping rows with a null value in either 'age' or 'age_o'."
   ]
  },
  {
   "cell_type": "code",
   "execution_count": 15,
   "metadata": {},
   "outputs": [
    {
     "data": {
      "text/plain": [
       "(8180, 69)"
      ]
     },
     "execution_count": 15,
     "metadata": {},
     "output_type": "execute_result"
    }
   ],
   "source": [
    "df = df.dropna(subset=['age', 'age_o'], axis=0).reset_index()\n",
    "df.shape"
   ]
  },
  {
   "cell_type": "code",
   "execution_count": null,
   "metadata": {},
   "outputs": [],
   "source": [
    "df.info()"
   ]
  },
  {
   "cell_type": "markdown",
   "metadata": {},
   "source": [
    "###### <br>"
   ]
  },
  {
   "cell_type": "markdown",
   "metadata": {},
   "source": [
    "Looking at the numerical columns through https://www.openml.org/d/40536, most numerical columns have a relatively high spread. Since there is no inherent connection (such as being part of a time series) between top and bottom rows, will fill null values with the respective column medians."
   ]
  },
  {
   "cell_type": "code",
   "execution_count": 17,
   "metadata": {},
   "outputs": [
    {
     "data": {
      "text/plain": [
       "0"
      ]
     },
     "execution_count": 17,
     "metadata": {},
     "output_type": "execute_result"
    }
   ],
   "source": [
    "# Filling the rest of the null values by median\n",
    "df = df.fillna(df.median())\n",
    "df.isnull().sum().sum()"
   ]
  },
  {
   "cell_type": "code",
   "execution_count": 18,
   "metadata": {},
   "outputs": [
    {
     "data": {
      "text/plain": [
       "(8180, 65)"
      ]
     },
     "execution_count": 18,
     "metadata": {},
     "output_type": "execute_result"
    }
   ],
   "source": [
    "# Dropping 'has_null', 'wave', 'level_0' due to lack of usefulness\n",
    "df = df.drop(columns=['level_0', 'index', 'has_null', 'wave'])\n",
    "df.shape"
   ]
  },
  {
   "cell_type": "markdown",
   "metadata": {},
   "source": [
    "##### Cleaned:\n",
    "Through repeatedly looking at the data and keeping in mind the necessary elements moving forward, I started with a patchy dataset of **(8378, 123)**, and ended up with a clean dataset of **(8180, 65)**."
   ]
  },
  {
   "cell_type": "markdown",
   "metadata": {},
   "source": [
    "##### Simplify names:\n",
    "Look to reduce wordiness in 'race' and 'race_o' columns."
   ]
  },
  {
   "cell_type": "code",
   "execution_count": 19,
   "metadata": {},
   "outputs": [
    {
     "data": {
      "text/plain": [
       "array([\"'asian/pacific islander/asian-american'\",\n",
       "       'european/caucasian-american', 'other',\n",
       "       \"'latino/hispanic american'\", \"'black/african american'\"],\n",
       "      dtype=object)"
      ]
     },
     "execution_count": 19,
     "metadata": {},
     "output_type": "execute_result"
    }
   ],
   "source": [
    "df['race'].unique()"
   ]
  },
  {
   "cell_type": "code",
   "execution_count": 20,
   "metadata": {},
   "outputs": [],
   "source": [
    "simplify_race = {\"'asian/pacific islander/asian-american'\": 'asian',\n",
    "                'european/caucasian-american': 'caucasian',\n",
    "                \"'latino/hispanic american'\": 'latino',\n",
    "                \"'black/african american'\": 'black',\n",
    "                'other': 'other'}\n",
    "\n",
    "df['race'] = df['race'].map(simplify_race)\n",
    "df['race_o'] = df['race_o'].map(simplify_race)"
   ]
  },
  {
   "cell_type": "code",
   "execution_count": 21,
   "metadata": {},
   "outputs": [
    {
     "data": {
      "text/plain": [
       "array(['asian', 'caucasian', 'other', 'latino', 'black'], dtype=object)"
      ]
     },
     "execution_count": 21,
     "metadata": {},
     "output_type": "execute_result"
    }
   ],
   "source": [
    "df['race'].unique()"
   ]
  },
  {
   "cell_type": "markdown",
   "metadata": {},
   "source": [
    "###### <br>"
   ]
  },
  {
   "cell_type": "code",
   "execution_count": 22,
   "metadata": {},
   "outputs": [
    {
     "data": {
      "text/html": [
       "<div>\n",
       "<style scoped>\n",
       "    .dataframe tbody tr th:only-of-type {\n",
       "        vertical-align: middle;\n",
       "    }\n",
       "\n",
       "    .dataframe tbody tr th {\n",
       "        vertical-align: top;\n",
       "    }\n",
       "\n",
       "    .dataframe thead th {\n",
       "        text-align: right;\n",
       "    }\n",
       "</style>\n",
       "<table border=\"1\" class=\"dataframe\">\n",
       "  <thead>\n",
       "    <tr style=\"text-align: right;\">\n",
       "      <th></th>\n",
       "      <th>gender</th>\n",
       "      <th>age</th>\n",
       "      <th>age_o</th>\n",
       "      <th>dif_age</th>\n",
       "      <th>race</th>\n",
       "      <th>race_o</th>\n",
       "      <th>samerace</th>\n",
       "      <th>importance_same_race</th>\n",
       "      <th>importance_same_religion</th>\n",
       "      <th>field</th>\n",
       "      <th>...</th>\n",
       "      <th>yoga</th>\n",
       "      <th>interests_correlate</th>\n",
       "      <th>expected_happy_with_sd_people</th>\n",
       "      <th>expected_num_matches</th>\n",
       "      <th>like</th>\n",
       "      <th>guess_prob_liked</th>\n",
       "      <th>met</th>\n",
       "      <th>decision</th>\n",
       "      <th>decision_o</th>\n",
       "      <th>match</th>\n",
       "    </tr>\n",
       "  </thead>\n",
       "  <tbody>\n",
       "    <tr>\n",
       "      <th>0</th>\n",
       "      <td>female</td>\n",
       "      <td>21.0</td>\n",
       "      <td>27.0</td>\n",
       "      <td>6</td>\n",
       "      <td>asian</td>\n",
       "      <td>caucasian</td>\n",
       "      <td>0</td>\n",
       "      <td>2.0</td>\n",
       "      <td>4.0</td>\n",
       "      <td>law</td>\n",
       "      <td>...</td>\n",
       "      <td>1.0</td>\n",
       "      <td>0.14</td>\n",
       "      <td>3.0</td>\n",
       "      <td>4.0</td>\n",
       "      <td>7.0</td>\n",
       "      <td>6.0</td>\n",
       "      <td>0.0</td>\n",
       "      <td>1</td>\n",
       "      <td>0</td>\n",
       "      <td>0</td>\n",
       "    </tr>\n",
       "    <tr>\n",
       "      <th>1</th>\n",
       "      <td>female</td>\n",
       "      <td>21.0</td>\n",
       "      <td>22.0</td>\n",
       "      <td>1</td>\n",
       "      <td>asian</td>\n",
       "      <td>caucasian</td>\n",
       "      <td>0</td>\n",
       "      <td>2.0</td>\n",
       "      <td>4.0</td>\n",
       "      <td>law</td>\n",
       "      <td>...</td>\n",
       "      <td>1.0</td>\n",
       "      <td>0.54</td>\n",
       "      <td>3.0</td>\n",
       "      <td>4.0</td>\n",
       "      <td>7.0</td>\n",
       "      <td>5.0</td>\n",
       "      <td>1.0</td>\n",
       "      <td>1</td>\n",
       "      <td>0</td>\n",
       "      <td>0</td>\n",
       "    </tr>\n",
       "    <tr>\n",
       "      <th>2</th>\n",
       "      <td>female</td>\n",
       "      <td>21.0</td>\n",
       "      <td>22.0</td>\n",
       "      <td>1</td>\n",
       "      <td>asian</td>\n",
       "      <td>asian</td>\n",
       "      <td>1</td>\n",
       "      <td>2.0</td>\n",
       "      <td>4.0</td>\n",
       "      <td>law</td>\n",
       "      <td>...</td>\n",
       "      <td>1.0</td>\n",
       "      <td>0.16</td>\n",
       "      <td>3.0</td>\n",
       "      <td>4.0</td>\n",
       "      <td>7.0</td>\n",
       "      <td>5.0</td>\n",
       "      <td>1.0</td>\n",
       "      <td>1</td>\n",
       "      <td>1</td>\n",
       "      <td>1</td>\n",
       "    </tr>\n",
       "    <tr>\n",
       "      <th>3</th>\n",
       "      <td>female</td>\n",
       "      <td>21.0</td>\n",
       "      <td>23.0</td>\n",
       "      <td>2</td>\n",
       "      <td>asian</td>\n",
       "      <td>caucasian</td>\n",
       "      <td>0</td>\n",
       "      <td>2.0</td>\n",
       "      <td>4.0</td>\n",
       "      <td>law</td>\n",
       "      <td>...</td>\n",
       "      <td>1.0</td>\n",
       "      <td>0.61</td>\n",
       "      <td>3.0</td>\n",
       "      <td>4.0</td>\n",
       "      <td>7.0</td>\n",
       "      <td>6.0</td>\n",
       "      <td>0.0</td>\n",
       "      <td>1</td>\n",
       "      <td>1</td>\n",
       "      <td>1</td>\n",
       "    </tr>\n",
       "    <tr>\n",
       "      <th>4</th>\n",
       "      <td>female</td>\n",
       "      <td>21.0</td>\n",
       "      <td>24.0</td>\n",
       "      <td>3</td>\n",
       "      <td>asian</td>\n",
       "      <td>latino</td>\n",
       "      <td>0</td>\n",
       "      <td>2.0</td>\n",
       "      <td>4.0</td>\n",
       "      <td>law</td>\n",
       "      <td>...</td>\n",
       "      <td>1.0</td>\n",
       "      <td>0.21</td>\n",
       "      <td>3.0</td>\n",
       "      <td>4.0</td>\n",
       "      <td>6.0</td>\n",
       "      <td>6.0</td>\n",
       "      <td>0.0</td>\n",
       "      <td>1</td>\n",
       "      <td>1</td>\n",
       "      <td>1</td>\n",
       "    </tr>\n",
       "  </tbody>\n",
       "</table>\n",
       "<p>5 rows × 65 columns</p>\n",
       "</div>"
      ],
      "text/plain": [
       "   gender   age  age_o  dif_age   race     race_o  samerace  \\\n",
       "0  female  21.0   27.0        6  asian  caucasian         0   \n",
       "1  female  21.0   22.0        1  asian  caucasian         0   \n",
       "2  female  21.0   22.0        1  asian      asian         1   \n",
       "3  female  21.0   23.0        2  asian  caucasian         0   \n",
       "4  female  21.0   24.0        3  asian     latino         0   \n",
       "\n",
       "   importance_same_race  importance_same_religion field  ...  yoga  \\\n",
       "0                   2.0                       4.0   law  ...   1.0   \n",
       "1                   2.0                       4.0   law  ...   1.0   \n",
       "2                   2.0                       4.0   law  ...   1.0   \n",
       "3                   2.0                       4.0   law  ...   1.0   \n",
       "4                   2.0                       4.0   law  ...   1.0   \n",
       "\n",
       "   interests_correlate  expected_happy_with_sd_people  expected_num_matches  \\\n",
       "0                 0.14                            3.0                   4.0   \n",
       "1                 0.54                            3.0                   4.0   \n",
       "2                 0.16                            3.0                   4.0   \n",
       "3                 0.61                            3.0                   4.0   \n",
       "4                 0.21                            3.0                   4.0   \n",
       "\n",
       "   like  guess_prob_liked  met  decision  decision_o  match  \n",
       "0   7.0               6.0  0.0         1           0      0  \n",
       "1   7.0               5.0  1.0         1           0      0  \n",
       "2   7.0               5.0  1.0         1           1      1  \n",
       "3   7.0               6.0  0.0         1           1      1  \n",
       "4   6.0               6.0  0.0         1           1      1  \n",
       "\n",
       "[5 rows x 65 columns]"
      ]
     },
     "execution_count": 22,
     "metadata": {},
     "output_type": "execute_result"
    }
   ],
   "source": [
    "df.head()"
   ]
  },
  {
   "cell_type": "markdown",
   "metadata": {},
   "source": [
    "###### <br>"
   ]
  },
  {
   "cell_type": "markdown",
   "metadata": {},
   "source": [
    "## Age distribution across gender & race"
   ]
  },
  {
   "cell_type": "code",
   "execution_count": 23,
   "metadata": {},
   "outputs": [],
   "source": [
    "# Sub-dataframe to examine gender, age, and race\n",
    "df_age = df[['gender', 'age', 'race']]"
   ]
  },
  {
   "cell_type": "code",
   "execution_count": 24,
   "metadata": {},
   "outputs": [
    {
     "data": {
      "text/plain": [
       "male      0.5\n",
       "female    0.5\n",
       "Name: gender, dtype: float64"
      ]
     },
     "execution_count": 24,
     "metadata": {},
     "output_type": "execute_result"
    }
   ],
   "source": [
    "# Look at participant percentage of each gender\n",
    "df_age['gender'].value_counts()/len(df_age)"
   ]
  },
  {
   "cell_type": "code",
   "execution_count": 25,
   "metadata": {},
   "outputs": [
    {
     "data": {
      "text/plain": [
       "caucasian    0.566993\n",
       "asian        0.239487\n",
       "latino       0.080073\n",
       "other        0.062836\n",
       "black        0.050611\n",
       "Name: race, dtype: float64"
      ]
     },
     "execution_count": 25,
     "metadata": {},
     "output_type": "execute_result"
    }
   ],
   "source": [
    "# Look at participant percentage or each race\n",
    "df_age['race'].value_counts()/len(df_age)"
   ]
  },
  {
   "cell_type": "code",
   "execution_count": 26,
   "metadata": {},
   "outputs": [
    {
     "data": {
      "text/plain": [
       "''"
      ]
     },
     "execution_count": 26,
     "metadata": {},
     "output_type": "execute_result"
    },
    {
     "data": {
      "image/png": "[encoded data removed]",
      "text/plain": [
       "<Figure size 720x432 with 1 Axes>"
      ]
     },
     "metadata": {
      "needs_background": "light"
     },
     "output_type": "display_data"
    }
   ],
   "source": [
    "# Count plot of gender and race\n",
    "plt.figure(figsize=(10,6))\n",
    "sns.set(style='whitegrid', color_codes=True, context='talk')\n",
    "sns.countplot(x='race', hue='gender', data=df_age,\n",
    "             palette='hls')\n",
    "plt.suptitle('Count of Participants by Race & Gender', y=1.015)\n",
    "plt.xlabel('Race')\n",
    "sns.despine(left=True)\n",
    ";"
   ]
  },
  {
   "cell_type": "code",
   "execution_count": 27,
   "metadata": {},
   "outputs": [
    {
     "data": {
      "text/plain": [
       "''"
      ]
     },
     "execution_count": 27,
     "metadata": {},
     "output_type": "execute_result"
    },
    {
     "data": {
      "image/png": "[encoded data removed]",
      "text/plain": [
       "<Figure size 648x432 with 1 Axes>"
      ]
     },
     "metadata": {},
     "output_type": "display_data"
    }
   ],
   "source": [
    "# Violin plot to check age distribution between genders\n",
    "sns.set(style=\"whitegrid\", palette=\"muted\", color_codes=True, context='talk')\n",
    "plt.figure(figsize=(9,6))\n",
    "sns.violinplot(x='gender', y='age', data=df_age[df_age.age<=40], # Limiting age within 40 due to few outliers\n",
    "               inner='quartile', palette={'female': 'r', 'male': 'b'})\n",
    "plt.suptitle('Age Distribution Between Genders')\n",
    "sns.despine(left=True)\n",
    ";"
   ]
  },
  {
   "cell_type": "markdown",
   "metadata": {},
   "source": [
    "While there is equal represenation of gender, race is mostly dominated by caucasians **(57%)** and secondly asians **(24%)**. There are also notably more female participants within the caucasian group."
   ]
  },
  {
   "cell_type": "markdown",
   "metadata": {},
   "source": [
    "Age distributions of genders are both bottom-heavy, with females centered around **26** years old and males at around **27**. This is about the time that most people start to worry about establishing a stable relationship. It would be interesting if we had data for the participants' *level of education*, since 26-27 years old is usually around the time when most people complete a graduate degree.\n",
    "\n",
    "##### Sidenote:\n",
    "It could be argued that the female distribution has a second mean centered around age 33, which could be due to pure chance."
   ]
  },
  {
   "cell_type": "markdown",
   "metadata": {},
   "source": [
    "###### <br>"
   ]
  },
  {
   "cell_type": "markdown",
   "metadata": {},
   "source": [
    "## Examination of interests (across genders)"
   ]
  },
  {
   "cell_type": "code",
   "execution_count": 28,
   "metadata": {},
   "outputs": [],
   "source": [
    "# Create new dataframe with all interest columns as well as gender & race\n",
    "interest_cols = ['gender', 'race', 'sports', 'tvsports', 'exercise', 'dining', 'museums', 'art', \\\n",
    "                'hiking', 'gaming', 'clubbing', 'reading', 'tv', 'theater', 'movies', 'concerts', \\\n",
    "                'music', 'shopping', 'yoga']\n",
    "\n",
    "interests_df = df[interest_cols]"
   ]
  },
  {
   "cell_type": "code",
   "execution_count": 29,
   "metadata": {},
   "outputs": [
    {
     "data": {
      "text/html": [
       "<div>\n",
       "<style scoped>\n",
       "    .dataframe tbody tr th:only-of-type {\n",
       "        vertical-align: middle;\n",
       "    }\n",
       "\n",
       "    .dataframe tbody tr th {\n",
       "        vertical-align: top;\n",
       "    }\n",
       "\n",
       "    .dataframe thead th {\n",
       "        text-align: right;\n",
       "    }\n",
       "</style>\n",
       "<table border=\"1\" class=\"dataframe\">\n",
       "  <thead>\n",
       "    <tr style=\"text-align: right;\">\n",
       "      <th></th>\n",
       "      <th>gender</th>\n",
       "      <th>race</th>\n",
       "      <th>sports</th>\n",
       "      <th>tvsports</th>\n",
       "      <th>exercise</th>\n",
       "      <th>dining</th>\n",
       "      <th>museums</th>\n",
       "      <th>art</th>\n",
       "      <th>hiking</th>\n",
       "      <th>gaming</th>\n",
       "      <th>clubbing</th>\n",
       "      <th>reading</th>\n",
       "      <th>tv</th>\n",
       "      <th>theater</th>\n",
       "      <th>movies</th>\n",
       "      <th>concerts</th>\n",
       "      <th>music</th>\n",
       "      <th>shopping</th>\n",
       "      <th>yoga</th>\n",
       "    </tr>\n",
       "  </thead>\n",
       "  <tbody>\n",
       "    <tr>\n",
       "      <th>0</th>\n",
       "      <td>female</td>\n",
       "      <td>asian</td>\n",
       "      <td>9.0</td>\n",
       "      <td>2.0</td>\n",
       "      <td>8.0</td>\n",
       "      <td>9.0</td>\n",
       "      <td>1.0</td>\n",
       "      <td>1.0</td>\n",
       "      <td>5.0</td>\n",
       "      <td>1.0</td>\n",
       "      <td>5.0</td>\n",
       "      <td>6.0</td>\n",
       "      <td>9.0</td>\n",
       "      <td>1.0</td>\n",
       "      <td>10.0</td>\n",
       "      <td>10.0</td>\n",
       "      <td>9.0</td>\n",
       "      <td>8.0</td>\n",
       "      <td>1.0</td>\n",
       "    </tr>\n",
       "    <tr>\n",
       "      <th>1</th>\n",
       "      <td>female</td>\n",
       "      <td>asian</td>\n",
       "      <td>9.0</td>\n",
       "      <td>2.0</td>\n",
       "      <td>8.0</td>\n",
       "      <td>9.0</td>\n",
       "      <td>1.0</td>\n",
       "      <td>1.0</td>\n",
       "      <td>5.0</td>\n",
       "      <td>1.0</td>\n",
       "      <td>5.0</td>\n",
       "      <td>6.0</td>\n",
       "      <td>9.0</td>\n",
       "      <td>1.0</td>\n",
       "      <td>10.0</td>\n",
       "      <td>10.0</td>\n",
       "      <td>9.0</td>\n",
       "      <td>8.0</td>\n",
       "      <td>1.0</td>\n",
       "    </tr>\n",
       "    <tr>\n",
       "      <th>2</th>\n",
       "      <td>female</td>\n",
       "      <td>asian</td>\n",
       "      <td>9.0</td>\n",
       "      <td>2.0</td>\n",
       "      <td>8.0</td>\n",
       "      <td>9.0</td>\n",
       "      <td>1.0</td>\n",
       "      <td>1.0</td>\n",
       "      <td>5.0</td>\n",
       "      <td>1.0</td>\n",
       "      <td>5.0</td>\n",
       "      <td>6.0</td>\n",
       "      <td>9.0</td>\n",
       "      <td>1.0</td>\n",
       "      <td>10.0</td>\n",
       "      <td>10.0</td>\n",
       "      <td>9.0</td>\n",
       "      <td>8.0</td>\n",
       "      <td>1.0</td>\n",
       "    </tr>\n",
       "    <tr>\n",
       "      <th>3</th>\n",
       "      <td>female</td>\n",
       "      <td>asian</td>\n",
       "      <td>9.0</td>\n",
       "      <td>2.0</td>\n",
       "      <td>8.0</td>\n",
       "      <td>9.0</td>\n",
       "      <td>1.0</td>\n",
       "      <td>1.0</td>\n",
       "      <td>5.0</td>\n",
       "      <td>1.0</td>\n",
       "      <td>5.0</td>\n",
       "      <td>6.0</td>\n",
       "      <td>9.0</td>\n",
       "      <td>1.0</td>\n",
       "      <td>10.0</td>\n",
       "      <td>10.0</td>\n",
       "      <td>9.0</td>\n",
       "      <td>8.0</td>\n",
       "      <td>1.0</td>\n",
       "    </tr>\n",
       "    <tr>\n",
       "      <th>4</th>\n",
       "      <td>female</td>\n",
       "      <td>asian</td>\n",
       "      <td>9.0</td>\n",
       "      <td>2.0</td>\n",
       "      <td>8.0</td>\n",
       "      <td>9.0</td>\n",
       "      <td>1.0</td>\n",
       "      <td>1.0</td>\n",
       "      <td>5.0</td>\n",
       "      <td>1.0</td>\n",
       "      <td>5.0</td>\n",
       "      <td>6.0</td>\n",
       "      <td>9.0</td>\n",
       "      <td>1.0</td>\n",
       "      <td>10.0</td>\n",
       "      <td>10.0</td>\n",
       "      <td>9.0</td>\n",
       "      <td>8.0</td>\n",
       "      <td>1.0</td>\n",
       "    </tr>\n",
       "  </tbody>\n",
       "</table>\n",
       "</div>"
      ],
      "text/plain": [
       "   gender   race  sports  tvsports  exercise  dining  museums  art  hiking  \\\n",
       "0  female  asian     9.0       2.0       8.0     9.0      1.0  1.0     5.0   \n",
       "1  female  asian     9.0       2.0       8.0     9.0      1.0  1.0     5.0   \n",
       "2  female  asian     9.0       2.0       8.0     9.0      1.0  1.0     5.0   \n",
       "3  female  asian     9.0       2.0       8.0     9.0      1.0  1.0     5.0   \n",
       "4  female  asian     9.0       2.0       8.0     9.0      1.0  1.0     5.0   \n",
       "\n",
       "   gaming  clubbing  reading   tv  theater  movies  concerts  music  shopping  \\\n",
       "0     1.0       5.0      6.0  9.0      1.0    10.0      10.0    9.0       8.0   \n",
       "1     1.0       5.0      6.0  9.0      1.0    10.0      10.0    9.0       8.0   \n",
       "2     1.0       5.0      6.0  9.0      1.0    10.0      10.0    9.0       8.0   \n",
       "3     1.0       5.0      6.0  9.0      1.0    10.0      10.0    9.0       8.0   \n",
       "4     1.0       5.0      6.0  9.0      1.0    10.0      10.0    9.0       8.0   \n",
       "\n",
       "   yoga  \n",
       "0   1.0  \n",
       "1   1.0  \n",
       "2   1.0  \n",
       "3   1.0  \n",
       "4   1.0  "
      ]
     },
     "execution_count": 29,
     "metadata": {},
     "output_type": "execute_result"
    }
   ],
   "source": [
    "interests_df.head()"
   ]
  },
  {
   "cell_type": "code",
   "execution_count": 30,
   "metadata": {},
   "outputs": [],
   "source": [
    "# Average values based on gender and sort by sum\n",
    "interests_g = interests_df.drop(columns=['race']).groupby('gender').mean().T\n",
    "interests_g['sum'] = interests_g['female'] + interests_g['male']   # Create sum column\n",
    "interests_g = interests_g.sort_values(by=['sum'], ascending=False) \\\n",
    "                         .reset_index() \\\n",
    "                         .rename(columns={'gender': 'index', 'index': 'interest'})\n",
    "interests_g['interest'] = interests_g['interest'].str.capitalize()"
   ]
  },
  {
   "cell_type": "code",
   "execution_count": 31,
   "metadata": {},
   "outputs": [
    {
     "data": {
      "text/html": [
       "<div>\n",
       "<style scoped>\n",
       "    .dataframe tbody tr th:only-of-type {\n",
       "        vertical-align: middle;\n",
       "    }\n",
       "\n",
       "    .dataframe tbody tr th {\n",
       "        vertical-align: top;\n",
       "    }\n",
       "\n",
       "    .dataframe thead th {\n",
       "        text-align: right;\n",
       "    }\n",
       "</style>\n",
       "<table border=\"1\" class=\"dataframe\">\n",
       "  <thead>\n",
       "    <tr style=\"text-align: right;\">\n",
       "      <th>gender</th>\n",
       "      <th>female</th>\n",
       "      <th>male</th>\n",
       "      <th>sum</th>\n",
       "    </tr>\n",
       "    <tr>\n",
       "      <th>interest</th>\n",
       "      <th></th>\n",
       "      <th></th>\n",
       "      <th></th>\n",
       "    </tr>\n",
       "  </thead>\n",
       "  <tbody>\n",
       "    <tr>\n",
       "      <th>Movies</th>\n",
       "      <td>8.192910</td>\n",
       "      <td>7.646210</td>\n",
       "      <td>15.839120</td>\n",
       "    </tr>\n",
       "    <tr>\n",
       "      <th>Music</th>\n",
       "      <td>7.972127</td>\n",
       "      <td>7.714425</td>\n",
       "      <td>15.686553</td>\n",
       "    </tr>\n",
       "    <tr>\n",
       "      <th>Dining</th>\n",
       "      <td>8.147922</td>\n",
       "      <td>7.417848</td>\n",
       "      <td>15.565770</td>\n",
       "    </tr>\n",
       "    <tr>\n",
       "      <th>Reading</th>\n",
       "      <td>7.897800</td>\n",
       "      <td>7.455746</td>\n",
       "      <td>15.353545</td>\n",
       "    </tr>\n",
       "    <tr>\n",
       "      <th>Museums</th>\n",
       "      <td>7.416870</td>\n",
       "      <td>6.559658</td>\n",
       "      <td>13.976528</td>\n",
       "    </tr>\n",
       "    <tr>\n",
       "      <th>Concerts</th>\n",
       "      <td>7.096577</td>\n",
       "      <td>6.545232</td>\n",
       "      <td>13.641809</td>\n",
       "    </tr>\n",
       "    <tr>\n",
       "      <th>Theater</th>\n",
       "      <td>7.460880</td>\n",
       "      <td>6.092421</td>\n",
       "      <td>13.553301</td>\n",
       "    </tr>\n",
       "    <tr>\n",
       "      <th>Art</th>\n",
       "      <td>7.202200</td>\n",
       "      <td>6.223472</td>\n",
       "      <td>13.425672</td>\n",
       "    </tr>\n",
       "    <tr>\n",
       "      <th>Sports</th>\n",
       "      <td>5.848166</td>\n",
       "      <td>7.025917</td>\n",
       "      <td>12.874083</td>\n",
       "    </tr>\n",
       "    <tr>\n",
       "      <th>Exercise</th>\n",
       "      <td>6.479462</td>\n",
       "      <td>6.040342</td>\n",
       "      <td>12.519804</td>\n",
       "    </tr>\n",
       "    <tr>\n",
       "      <th>Hiking</th>\n",
       "      <td>5.930318</td>\n",
       "      <td>5.540098</td>\n",
       "      <td>11.470416</td>\n",
       "    </tr>\n",
       "    <tr>\n",
       "      <th>Clubbing</th>\n",
       "      <td>5.880196</td>\n",
       "      <td>5.577262</td>\n",
       "      <td>11.457457</td>\n",
       "    </tr>\n",
       "    <tr>\n",
       "      <th>Shopping</th>\n",
       "      <td>6.511980</td>\n",
       "      <td>4.761369</td>\n",
       "      <td>11.273350</td>\n",
       "    </tr>\n",
       "    <tr>\n",
       "      <th>Tv</th>\n",
       "      <td>5.741809</td>\n",
       "      <td>4.865037</td>\n",
       "      <td>10.606846</td>\n",
       "    </tr>\n",
       "    <tr>\n",
       "      <th>Tvsports</th>\n",
       "      <td>4.173839</td>\n",
       "      <td>4.978484</td>\n",
       "      <td>9.152323</td>\n",
       "    </tr>\n",
       "    <tr>\n",
       "      <th>Yoga</th>\n",
       "      <td>4.983130</td>\n",
       "      <td>3.696333</td>\n",
       "      <td>8.679462</td>\n",
       "    </tr>\n",
       "    <tr>\n",
       "      <th>Gaming</th>\n",
       "      <td>3.318582</td>\n",
       "      <td>4.452812</td>\n",
       "      <td>7.771394</td>\n",
       "    </tr>\n",
       "  </tbody>\n",
       "</table>\n",
       "</div>"
      ],
      "text/plain": [
       "gender      female      male        sum\n",
       "interest                               \n",
       "Movies    8.192910  7.646210  15.839120\n",
       "Music     7.972127  7.714425  15.686553\n",
       "Dining    8.147922  7.417848  15.565770\n",
       "Reading   7.897800  7.455746  15.353545\n",
       "Museums   7.416870  6.559658  13.976528\n",
       "Concerts  7.096577  6.545232  13.641809\n",
       "Theater   7.460880  6.092421  13.553301\n",
       "Art       7.202200  6.223472  13.425672\n",
       "Sports    5.848166  7.025917  12.874083\n",
       "Exercise  6.479462  6.040342  12.519804\n",
       "Hiking    5.930318  5.540098  11.470416\n",
       "Clubbing  5.880196  5.577262  11.457457\n",
       "Shopping  6.511980  4.761369  11.273350\n",
       "Tv        5.741809  4.865037  10.606846\n",
       "Tvsports  4.173839  4.978484   9.152323\n",
       "Yoga      4.983130  3.696333   8.679462\n",
       "Gaming    3.318582  4.452812   7.771394"
      ]
     },
     "execution_count": 31,
     "metadata": {},
     "output_type": "execute_result"
    }
   ],
   "source": [
    "# 'Pivot table' that compares interest ratings between genders and sorted by the total\n",
    "interests_g.set_index('interest')"
   ]
  },
  {
   "cell_type": "code",
   "execution_count": 32,
   "metadata": {},
   "outputs": [
    {
     "name": "stdout",
     "output_type": "stream",
     "text": [
      "Male mean:  6.0348626492161666\n",
      "Female mean:  6.485574572127139\n"
     ]
    }
   ],
   "source": [
    "# Comparing the mean ratings between genders\n",
    "male_mean = interests_g['male'].mean()\n",
    "female_mean = interests_g['female'].mean()\n",
    "print('Male mean: ', male_mean)\n",
    "print('Female mean: ', female_mean)"
   ]
  },
  {
   "cell_type": "code",
   "execution_count": 33,
   "metadata": {},
   "outputs": [
    {
     "data": {
      "image/png": "[encoded data removed]",
      "text/plain": [
       "<Figure size 936x576 with 1 Axes>"
      ]
     },
     "metadata": {},
     "output_type": "display_data"
    }
   ],
   "source": [
    "# Plot bar chart of the sum of interest ratings\n",
    "plt.style.use('fivethirtyeight')\n",
    "sns.set_context('talk')\n",
    "\n",
    "fig, ax = plt.subplots(figsize=(13,8))\n",
    "sns.barplot(y='interest', x='sum', data=interests_g)\n",
    "plt.ylabel('')\n",
    "plt.xlabel('SUM  (Max:20.0)')\n",
    "ax.set(xlim=(0,20))\n",
    "plt.title('Self-ratings of Interests (Sum)', y=1.025, fontsize=24)\n",
    "sns.despine(left=True, bottom=True)"
   ]
  },
  {
   "cell_type": "code",
   "execution_count": null,
   "metadata": {},
   "outputs": [],
   "source": [
    "# Melt interests_g to prep for grouped bar chart\n",
    "interests_g2 = interests_g.drop(columns=['sum']) \\\n",
    "                          .melt(id_vars='interest', var_name='gender', value_name='avg_rating')"
   ]
  },
  {
   "cell_type": "code",
   "execution_count": 35,
   "metadata": {},
   "outputs": [
    {
     "data": {
      "text/plain": [
       "''"
      ]
     },
     "execution_count": 35,
     "metadata": {},
     "output_type": "execute_result"
    },
    {
     "data": {
      "image/png": "[encoded data removed]",
      "text/plain": [
       "<Figure size 949.15x720 with 1 Axes>"
      ]
     },
     "metadata": {},
     "output_type": "display_data"
    }
   ],
   "source": [
    "# Plot grouped bar chart split by gender\n",
    "sns.catplot(y='interest', x='avg_rating', hue='gender', data=interests_g2,\n",
    "           kind='bar', height=10, aspect=7/6, palette='hls')\n",
    "plt.xlim(0,10)\n",
    "plt.xlabel('Average Rating  (Max:10)')\n",
    "plt.ylabel('')\n",
    "plt.suptitle('Self-ratings of Interests by Gender (Ordered by Total)', y=1.02)\n",
    ";"
   ]
  },
  {
   "cell_type": "markdown",
   "metadata": {},
   "source": [
    "##### Top 5 popular interests:\n",
    "1. Movies\n",
    "- Music\n",
    "- Dining\n",
    "- Reading\n",
    "- Museums\n",
    "\n",
    "##### Bottom 3 interests that failed to score higher than 10 ('neutral' point on survey)\n",
    "- Gaming\n",
    "- Yoga\n",
    "- TV Sports\n",
    "\n",
    "##### Female-leaning interests:\n",
    "- Yoga\n",
    "- Shopping\n",
    "- Art\n",
    "- Theater\n",
    "\n",
    "##### Male-leaning interests:\n",
    "- Gaming\n",
    "- TV Sports\n",
    "- Sports"
   ]
  },
  {
   "cell_type": "markdown",
   "metadata": {},
   "source": [
    "Most observations from the two graphs do not necessarily challenge our day-to-day expectations of the distribution of people's interests, though it could be argued that there is some incentive for participants to adjust their self-ratings to appear more desirable in a speed-dating setting. This could have resulted in:\n",
    "- higher self-ratings in the more positively viewed interests such as *reading* and *museums*\n",
    "- lower self-ratings in *clubbing* or *gaming*, interests that are somewhat associated with immaturity"
   ]
  },
  {
   "cell_type": "markdown",
   "metadata": {},
   "source": [
    "Male and female leaning interests mostly fit their respective social images, with females more interested in *yoga* and *shopping*, whereas males are more interested in *gaming* and *sports*. A curious observation is that while females are generally less interested in *sports* and *TV sports*, they rated higher on *exercise* and *TV*, which balances out gender differences when it comes to general exercise and watching TV. Of course, this is assuming *TV* and *exercise* are inclusive of *TV sports* and *sports* respectively.\n",
    "<br>\n",
    "<br>\n",
    "It should also be noted that females have an overall higher self-rating across all interests with an average of **6.49** against the male average of **6.03**, which could lead to other interesting interpretations. e.g. Do males have less interest overall, or do they tend to under-report?"
   ]
  },
  {
   "cell_type": "markdown",
   "metadata": {},
   "source": [
    "###### <br>"
   ]
  },
  {
   "cell_type": "markdown",
   "metadata": {},
   "source": [
    "## How race affects emphasis on preference for the same race and religion"
   ]
  },
  {
   "cell_type": "code",
   "execution_count": 36,
   "metadata": {},
   "outputs": [
    {
     "data": {
      "text/html": [
       "<div>\n",
       "<style scoped>\n",
       "    .dataframe tbody tr th:only-of-type {\n",
       "        vertical-align: middle;\n",
       "    }\n",
       "\n",
       "    .dataframe tbody tr th {\n",
       "        vertical-align: top;\n",
       "    }\n",
       "\n",
       "    .dataframe thead th {\n",
       "        text-align: right;\n",
       "    }\n",
       "</style>\n",
       "<table border=\"1\" class=\"dataframe\">\n",
       "  <thead>\n",
       "    <tr style=\"text-align: right;\">\n",
       "      <th></th>\n",
       "      <th>race</th>\n",
       "      <th>importance_same_race</th>\n",
       "      <th>importance_same_religion</th>\n",
       "    </tr>\n",
       "  </thead>\n",
       "  <tbody>\n",
       "    <tr>\n",
       "      <th>0</th>\n",
       "      <td>asian</td>\n",
       "      <td>2.0</td>\n",
       "      <td>4.0</td>\n",
       "    </tr>\n",
       "    <tr>\n",
       "      <th>1</th>\n",
       "      <td>asian</td>\n",
       "      <td>2.0</td>\n",
       "      <td>4.0</td>\n",
       "    </tr>\n",
       "    <tr>\n",
       "      <th>2</th>\n",
       "      <td>asian</td>\n",
       "      <td>2.0</td>\n",
       "      <td>4.0</td>\n",
       "    </tr>\n",
       "    <tr>\n",
       "      <th>3</th>\n",
       "      <td>asian</td>\n",
       "      <td>2.0</td>\n",
       "      <td>4.0</td>\n",
       "    </tr>\n",
       "    <tr>\n",
       "      <th>4</th>\n",
       "      <td>asian</td>\n",
       "      <td>2.0</td>\n",
       "      <td>4.0</td>\n",
       "    </tr>\n",
       "  </tbody>\n",
       "</table>\n",
       "</div>"
      ],
      "text/plain": [
       "    race  importance_same_race  importance_same_religion\n",
       "0  asian                   2.0                       4.0\n",
       "1  asian                   2.0                       4.0\n",
       "2  asian                   2.0                       4.0\n",
       "3  asian                   2.0                       4.0\n",
       "4  asian                   2.0                       4.0"
      ]
     },
     "execution_count": 36,
     "metadata": {},
     "output_type": "execute_result"
    }
   ],
   "source": [
    "race_cols = ['race', 'importance_same_race', 'importance_same_religion']\n",
    "df_r = df[race_cols]\n",
    "df_r.head()"
   ]
  },
  {
   "cell_type": "code",
   "execution_count": 37,
   "metadata": {},
   "outputs": [
    {
     "data": {
      "text/html": [
       "<div>\n",
       "<style scoped>\n",
       "    .dataframe tbody tr th:only-of-type {\n",
       "        vertical-align: middle;\n",
       "    }\n",
       "\n",
       "    .dataframe tbody tr th {\n",
       "        vertical-align: top;\n",
       "    }\n",
       "\n",
       "    .dataframe thead th {\n",
       "        text-align: right;\n",
       "    }\n",
       "</style>\n",
       "<table border=\"1\" class=\"dataframe\">\n",
       "  <thead>\n",
       "    <tr style=\"text-align: right;\">\n",
       "      <th></th>\n",
       "      <th>importance_same_race</th>\n",
       "      <th>importance_same_religion</th>\n",
       "    </tr>\n",
       "  </thead>\n",
       "  <tbody>\n",
       "    <tr>\n",
       "      <th>count</th>\n",
       "      <td>8180.000000</td>\n",
       "      <td>8180.000000</td>\n",
       "    </tr>\n",
       "    <tr>\n",
       "      <th>mean</th>\n",
       "      <td>3.794988</td>\n",
       "      <td>3.671027</td>\n",
       "    </tr>\n",
       "    <tr>\n",
       "      <th>std</th>\n",
       "      <td>2.845949</td>\n",
       "      <td>2.806942</td>\n",
       "    </tr>\n",
       "    <tr>\n",
       "      <th>min</th>\n",
       "      <td>0.000000</td>\n",
       "      <td>1.000000</td>\n",
       "    </tr>\n",
       "    <tr>\n",
       "      <th>25%</th>\n",
       "      <td>1.000000</td>\n",
       "      <td>1.000000</td>\n",
       "    </tr>\n",
       "    <tr>\n",
       "      <th>50%</th>\n",
       "      <td>3.000000</td>\n",
       "      <td>3.000000</td>\n",
       "    </tr>\n",
       "    <tr>\n",
       "      <th>75%</th>\n",
       "      <td>6.000000</td>\n",
       "      <td>6.000000</td>\n",
       "    </tr>\n",
       "    <tr>\n",
       "      <th>max</th>\n",
       "      <td>10.000000</td>\n",
       "      <td>10.000000</td>\n",
       "    </tr>\n",
       "  </tbody>\n",
       "</table>\n",
       "</div>"
      ],
      "text/plain": [
       "       importance_same_race  importance_same_religion\n",
       "count           8180.000000               8180.000000\n",
       "mean               3.794988                  3.671027\n",
       "std                2.845949                  2.806942\n",
       "min                0.000000                  1.000000\n",
       "25%                1.000000                  1.000000\n",
       "50%                3.000000                  3.000000\n",
       "75%                6.000000                  6.000000\n",
       "max               10.000000                 10.000000"
      ]
     },
     "execution_count": 37,
     "metadata": {},
     "output_type": "execute_result"
    }
   ],
   "source": [
    "# Check ranges to make sure both columns are on the same 0-10 scale\n",
    "df_r.describe()"
   ]
  },
  {
   "cell_type": "code",
   "execution_count": 38,
   "metadata": {},
   "outputs": [
    {
     "data": {
      "text/plain": [
       "''"
      ]
     },
     "execution_count": 38,
     "metadata": {},
     "output_type": "execute_result"
    },
    {
     "data": {
      "image/png": "[encoded data removed]",
      "text/plain": [
       "<Figure size 432x432 with 3 Axes>"
      ]
     },
     "metadata": {},
     "output_type": "display_data"
    }
   ],
   "source": [
    "# Create jointplot to visualize distributions and relationship of the two 'importance' columns\n",
    "sns.set(style='white', color_codes=True, context='talk')\n",
    "sns.jointplot('importance_same_race', 'importance_same_religion', data=df_r, kind='kde',\n",
    "             xlim=(0,10), ylim=(0,10), space=0, color='g')\n",
    ";"
   ]
  },
  {
   "cell_type": "code",
   "execution_count": 39,
   "metadata": {},
   "outputs": [
    {
     "data": {
      "text/html": [
       "<div>\n",
       "<style scoped>\n",
       "    .dataframe tbody tr th:only-of-type {\n",
       "        vertical-align: middle;\n",
       "    }\n",
       "\n",
       "    .dataframe tbody tr th {\n",
       "        vertical-align: top;\n",
       "    }\n",
       "\n",
       "    .dataframe thead th {\n",
       "        text-align: right;\n",
       "    }\n",
       "</style>\n",
       "<table border=\"1\" class=\"dataframe\">\n",
       "  <thead>\n",
       "    <tr style=\"text-align: right;\">\n",
       "      <th></th>\n",
       "      <th>race</th>\n",
       "      <th>importance_type</th>\n",
       "      <th>importance_rating</th>\n",
       "    </tr>\n",
       "  </thead>\n",
       "  <tbody>\n",
       "    <tr>\n",
       "      <th>0</th>\n",
       "      <td>asian</td>\n",
       "      <td>same_race</td>\n",
       "      <td>2.0</td>\n",
       "    </tr>\n",
       "    <tr>\n",
       "      <th>1</th>\n",
       "      <td>asian</td>\n",
       "      <td>same_race</td>\n",
       "      <td>2.0</td>\n",
       "    </tr>\n",
       "    <tr>\n",
       "      <th>2</th>\n",
       "      <td>asian</td>\n",
       "      <td>same_race</td>\n",
       "      <td>2.0</td>\n",
       "    </tr>\n",
       "    <tr>\n",
       "      <th>3</th>\n",
       "      <td>asian</td>\n",
       "      <td>same_race</td>\n",
       "      <td>2.0</td>\n",
       "    </tr>\n",
       "    <tr>\n",
       "      <th>4</th>\n",
       "      <td>asian</td>\n",
       "      <td>same_race</td>\n",
       "      <td>2.0</td>\n",
       "    </tr>\n",
       "  </tbody>\n",
       "</table>\n",
       "</div>"
      ],
      "text/plain": [
       "    race importance_type  importance_rating\n",
       "0  asian       same_race                2.0\n",
       "1  asian       same_race                2.0\n",
       "2  asian       same_race                2.0\n",
       "3  asian       same_race                2.0\n",
       "4  asian       same_race                2.0"
      ]
     },
     "execution_count": 39,
     "metadata": {},
     "output_type": "execute_result"
    }
   ],
   "source": [
    "# Rename and melt to prep for grouped bar plot\n",
    "plot_r = df_r.rename(columns={'importance_same_race': 'same_race',\n",
    "                              'importance_same_religion': 'same_religion'}) \\\n",
    "             .melt(id_vars='race', var_name='importance_type', value_name='importance_rating')\n",
    "plot_r.head()"
   ]
  },
  {
   "cell_type": "code",
   "execution_count": 40,
   "metadata": {},
   "outputs": [
    {
     "data": {
      "text/html": [
       "<div>\n",
       "<style scoped>\n",
       "    .dataframe tbody tr th:only-of-type {\n",
       "        vertical-align: middle;\n",
       "    }\n",
       "\n",
       "    .dataframe tbody tr th {\n",
       "        vertical-align: top;\n",
       "    }\n",
       "\n",
       "    .dataframe thead th {\n",
       "        text-align: right;\n",
       "    }\n",
       "</style>\n",
       "<table border=\"1\" class=\"dataframe\">\n",
       "  <thead>\n",
       "    <tr style=\"text-align: right;\">\n",
       "      <th></th>\n",
       "      <th></th>\n",
       "      <th>importance_rating</th>\n",
       "    </tr>\n",
       "    <tr>\n",
       "      <th>race</th>\n",
       "      <th>importance_type</th>\n",
       "      <th></th>\n",
       "    </tr>\n",
       "  </thead>\n",
       "  <tbody>\n",
       "    <tr>\n",
       "      <th rowspan=\"2\" valign=\"top\">asian</th>\n",
       "      <th>same_race</th>\n",
       "      <td>3.467075</td>\n",
       "    </tr>\n",
       "    <tr>\n",
       "      <th>same_religion</th>\n",
       "      <td>3.127106</td>\n",
       "    </tr>\n",
       "    <tr>\n",
       "      <th rowspan=\"2\" valign=\"top\">black</th>\n",
       "      <th>same_race</th>\n",
       "      <td>3.359903</td>\n",
       "    </tr>\n",
       "    <tr>\n",
       "      <th>same_religion</th>\n",
       "      <td>2.821256</td>\n",
       "    </tr>\n",
       "    <tr>\n",
       "      <th rowspan=\"2\" valign=\"top\">caucasian</th>\n",
       "      <th>same_race</th>\n",
       "      <td>4.210651</td>\n",
       "    </tr>\n",
       "    <tr>\n",
       "      <th>same_religion</th>\n",
       "      <td>4.022639</td>\n",
       "    </tr>\n",
       "    <tr>\n",
       "      <th rowspan=\"2\" valign=\"top\">latino</th>\n",
       "      <th>same_race</th>\n",
       "      <td>2.749618</td>\n",
       "    </tr>\n",
       "    <tr>\n",
       "      <th>same_religion</th>\n",
       "      <td>3.386260</td>\n",
       "    </tr>\n",
       "    <tr>\n",
       "      <th rowspan=\"2\" valign=\"top\">other</th>\n",
       "      <th>same_race</th>\n",
       "      <td>2.976654</td>\n",
       "    </tr>\n",
       "    <tr>\n",
       "      <th>same_religion</th>\n",
       "      <td>3.618677</td>\n",
       "    </tr>\n",
       "  </tbody>\n",
       "</table>\n",
       "</div>"
      ],
      "text/plain": [
       "                           importance_rating\n",
       "race      importance_type                   \n",
       "asian     same_race                 3.467075\n",
       "          same_religion             3.127106\n",
       "black     same_race                 3.359903\n",
       "          same_religion             2.821256\n",
       "caucasian same_race                 4.210651\n",
       "          same_religion             4.022639\n",
       "latino    same_race                 2.749618\n",
       "          same_religion             3.386260\n",
       "other     same_race                 2.976654\n",
       "          same_religion             3.618677"
      ]
     },
     "execution_count": 40,
     "metadata": {},
     "output_type": "execute_result"
    }
   ],
   "source": [
    "# Group-by chart before plotting\n",
    "plot_r.groupby(by=['race', 'importance_type']).mean()"
   ]
  },
  {
   "cell_type": "code",
   "execution_count": 41,
   "metadata": {},
   "outputs": [
    {
     "data": {
      "text/plain": [
       "''"
      ]
     },
     "execution_count": 41,
     "metadata": {},
     "output_type": "execute_result"
    },
    {
     "data": {
      "image/png": "[encoded data removed]",
      "text/plain": [
       "<Figure size 810.65x432 with 1 Axes>"
      ]
     },
     "metadata": {},
     "output_type": "display_data"
    }
   ],
   "source": [
    "# Draw grouped bar chart to look at average emphasis by race\n",
    "sns.set(style='whitegrid', color_codes=True, context='talk')\n",
    "sns.catplot(x='race', y='importance_rating', hue='importance_type', data=plot_r,\n",
    "           kind='bar', palette='Paired', height=6, aspect=3/2)\n",
    "plt.xlabel('')\n",
    "plt.ylim(0,10)\n",
    "plt.suptitle('Emphasis on Same Race & Religion of Partner by Race', x=0.44, y=1.015)\n",
    "sns.despine(left=True)\n",
    ";"
   ]
  },
  {
   "cell_type": "markdown",
   "metadata": {},
   "source": [
    "From the kde joint plot we can see that most participants have little to no preference on their partner having the same race and religion with most data points lying within a square from (0,0) to (2,2). "
   ]
  },
  {
   "cell_type": "markdown",
   "metadata": {},
   "source": [
    "Looking at the grouped bar plot, there are slight discrepancies between races as to their preferences. From what little differences are presented:\n",
    "- *Asians*, *caucasians*, and *blacks* have a higher preference for finding someone of the **same race**.\n",
    "- *Other races* and *latinos* have a heavier emphasis on finding a partner of the **same religion**.\n",
    "- *Caucasians* seem to have a slightly higher preference for both attributes."
   ]
  },
  {
   "cell_type": "markdown",
   "metadata": {},
   "source": [
    "###### <br>"
   ]
  },
  {
   "cell_type": "markdown",
   "metadata": {},
   "source": [
    "## Correlation Matrix"
   ]
  },
  {
   "cell_type": "markdown",
   "metadata": {},
   "source": [
    "Both the correlation matrix and the eventual model fitting will require certain column trimming and transformations. There are a few issues that need to be addressed:\n",
    "#### **Unneeded columns**:\n",
    "- **'expected_happy_with_sd_people'** - likely collinear with 'expected_num_matches'\n",
    "- **'like', 'guess_prob_liked'** - unreliable variables. Will be hard to draw conclusions from.\n",
    "- **'importance_same_race', 'importance_same_religion'** - Found to be low variance variables\n",
    "- **'decision', 'decision_o'** - Redundant due to their relationships to target variable 'match'\n",
    "- **\\*Interest columns**: The individual self-ratings of interests will likely not make it into the correlation matrix nor the model since they are already captured within the 'interests_correlate' column.\n",
    "\n",
    "#### **Transformations**:\n",
    "- **'dif_age'**: The 'dif_age' column as it is now has no direction. It is currently the *absolute value* of the difference in age between the two partners. It will make more sense to have a new column reflect (male's age - female's age) to give it a direction while also removing the need to have all three columns ('age', 'age_o', 'dif_age') present.\n",
    "- **'race'**: 'race' and 'race_o' will likely be condensed into two binary columns for *Caucasian* and *Asian* pertaining to the subject only. 'samerace' will be kept.\n",
    "- **'field'**: The 'field' column contains 219 unique values. Assuming it is used, it will likely be encoded into a few binary columns of the most popular fields.\n",
    "- **'gender'**: The 'gender' column will need to be dummified.\n",
    "\n",
    "#### **Aggregated Ratings**:\n",
    "Aggregated ratings need to be created, more so for the correlation matrix, to reduce the dimension. There are five categories of ratings that all have unique prefixes or suffixes or lack thereof:\n",
    "- How important the partner rates certain traits ['pref_o']\n",
    "- Partner ratings of subject ['_o']\n",
    "- What the subject looks for in partner ['_important']\n",
    "- Subject self-ratings ['']\n",
    "- Subject ratings of partner ['_partner']"
   ]
  },
  {
   "cell_type": "code",
   "execution_count": 42,
   "metadata": {},
   "outputs": [
    {
     "data": {
      "text/plain": [
       "Index(['gender', 'age', 'age_o', 'dif_age', 'race', 'race_o', 'samerace',\n",
       "       'importance_same_race', 'importance_same_religion', 'field',\n",
       "       'pref_o_attractive', 'pref_o_sincere', 'pref_o_intelligence',\n",
       "       'pref_o_funny', 'pref_o_ambitious', 'pref_o_shared_interests',\n",
       "       'attractive_o', 'sincere_o', 'intelligence_o', 'funny_o', 'ambitious_o',\n",
       "       'shared_interests_o', 'attractive_important', 'sincere_important',\n",
       "       'intelligence_important', 'funny_important', 'ambition_important',\n",
       "       'shared_interests_important', 'attractive', 'sincere', 'intelligence',\n",
       "       'funny', 'ambition', 'attractive_partner', 'sincere_partner',\n",
       "       'intelligence_partner', 'funny_partner', 'ambition_partner',\n",
       "       'shared_interests_partner', 'sports', 'tvsports', 'exercise', 'dining',\n",
       "       'museums', 'art', 'hiking', 'gaming', 'clubbing', 'reading', 'tv',\n",
       "       'theater', 'movies', 'concerts', 'music', 'shopping', 'yoga',\n",
       "       'interests_correlate', 'expected_happy_with_sd_people',\n",
       "       'expected_num_matches', 'like', 'guess_prob_liked', 'met', 'decision',\n",
       "       'decision_o', 'match'],\n",
       "      dtype='object')"
      ]
     },
     "execution_count": 42,
     "metadata": {},
     "output_type": "execute_result"
    }
   ],
   "source": [
    "df.columns"
   ]
  },
  {
   "cell_type": "code",
   "execution_count": 43,
   "metadata": {},
   "outputs": [],
   "source": [
    "cols_drop = ['sports', 'tvsports', 'exercise', 'dining', 'museums', 'art', 'hiking', \\\n",
    "             'gaming', 'clubbing', 'reading', 'tv', 'theater', 'movies', 'concerts', \\\n",
    "             'music', 'shopping', 'yoga', 'importance_same_race', 'importance_same_religion', \\\n",
    "             'expected_happy_with_sd_people', 'like', 'guess_prob_liked', 'decision', \\\n",
    "             'decision_o', 'dif_age', 'race_o']\n",
    "\n",
    "df_conv = df.drop(columns=cols_drop)"
   ]
  },
  {
   "cell_type": "code",
   "execution_count": 44,
   "metadata": {},
   "outputs": [],
   "source": [
    "# Encode a 'female_age' column\n",
    "df_conv['f_age'] = ''\n",
    "df_conv.loc[df_conv['gender']=='female', 'f_age'] = df_conv['age']\n",
    "df_conv.loc[df_conv['gender']=='male', 'f_age'] = df_conv['age_o']\n",
    "\n",
    "# Encode column that represents the male's age minus the female's\n",
    "df_conv['m_to_f_agediff'] = ''\n",
    "df_conv.loc[df_conv['gender']=='female', 'm_to_f_agediff'] = df_conv['age_o'] - df_conv['age']\n",
    "df_conv.loc[df_conv['gender']=='male', 'm_to_f_agediff'] = df_conv['age'] - df_conv['age_o']\n",
    "\n",
    "# Drop 'age' and 'age_o'\n",
    "df_conv = df_conv.drop(columns=['age', 'age_o'])"
   ]
  },
  {
   "cell_type": "code",
   "execution_count": 45,
   "metadata": {},
   "outputs": [],
   "source": [
    "# Encode two dummy columns to replace race\n",
    "df_conv['caucasian'] = df_conv['race'].apply(lambda x: 1 if x=='caucasian' else 0)\n",
    "df_conv['asian'] = df_conv['race'].apply(lambda x: 1 if x=='asian' else 0)\n",
    "\n",
    "# Drop 'race'\n",
    "df_conv = df_conv.drop(columns=['race'])"
   ]
  },
  {
   "cell_type": "code",
   "execution_count": 46,
   "metadata": {},
   "outputs": [
    {
     "data": {
      "text/plain": [
       "business         624\n",
       "law              595\n",
       "mba              452\n",
       "'social work'    414\n",
       "Name: field, dtype: int64"
      ]
     },
     "execution_count": 46,
     "metadata": {},
     "output_type": "execute_result"
    }
   ],
   "source": [
    "# Check top 4 most common fields to prepare for dummification\n",
    "df_conv['field'].value_counts()[:4]"
   ]
  },
  {
   "cell_type": "code",
   "execution_count": 47,
   "metadata": {},
   "outputs": [],
   "source": [
    "# Stripping single quotes from 'social work'\n",
    "df_conv.loc[df_conv['field']==\"'social work'\", 'field'] = 'social work'\n",
    "\n",
    "# Dummify top 4 most common fields\n",
    "field_vals = ['business', 'law', 'mba', 'social work']\n",
    "for f in field_vals:\n",
    "    df_conv[f] = df_conv['field'].apply(lambda x: 1 if x==f else 0)\n",
    "    \n",
    "# Drop 'field' column\n",
    "df_conv = df_conv.drop(columns=['field'])"
   ]
  },
  {
   "cell_type": "code",
   "execution_count": 48,
   "metadata": {},
   "outputs": [
    {
     "data": {
      "text/html": [
       "<div>\n",
       "<style scoped>\n",
       "    .dataframe tbody tr th:only-of-type {\n",
       "        vertical-align: middle;\n",
       "    }\n",
       "\n",
       "    .dataframe tbody tr th {\n",
       "        vertical-align: top;\n",
       "    }\n",
       "\n",
       "    .dataframe thead th {\n",
       "        text-align: right;\n",
       "    }\n",
       "</style>\n",
       "<table border=\"1\" class=\"dataframe\">\n",
       "  <thead>\n",
       "    <tr style=\"text-align: right;\">\n",
       "      <th></th>\n",
       "      <th>samerace</th>\n",
       "      <th>pref_o_attractive</th>\n",
       "      <th>pref_o_sincere</th>\n",
       "      <th>pref_o_intelligence</th>\n",
       "      <th>pref_o_funny</th>\n",
       "      <th>pref_o_ambitious</th>\n",
       "      <th>pref_o_shared_interests</th>\n",
       "      <th>attractive_o</th>\n",
       "      <th>sincere_o</th>\n",
       "      <th>intelligence_o</th>\n",
       "      <th>...</th>\n",
       "      <th>met</th>\n",
       "      <th>match</th>\n",
       "      <th>f_age</th>\n",
       "      <th>m_to_f_agediff</th>\n",
       "      <th>caucasian</th>\n",
       "      <th>asian</th>\n",
       "      <th>business</th>\n",
       "      <th>law</th>\n",
       "      <th>mba</th>\n",
       "      <th>social work</th>\n",
       "    </tr>\n",
       "  </thead>\n",
       "  <tbody>\n",
       "    <tr>\n",
       "      <th>count</th>\n",
       "      <td>8180.000000</td>\n",
       "      <td>8180.000000</td>\n",
       "      <td>8180.000000</td>\n",
       "      <td>8180.000000</td>\n",
       "      <td>8180.000000</td>\n",
       "      <td>8180.000000</td>\n",
       "      <td>8180.000000</td>\n",
       "      <td>8180.000000</td>\n",
       "      <td>8180.000000</td>\n",
       "      <td>8180.000000</td>\n",
       "      <td>...</td>\n",
       "      <td>8180.000000</td>\n",
       "      <td>8180.000000</td>\n",
       "      <td>8180.000000</td>\n",
       "      <td>8180.000000</td>\n",
       "      <td>8180.000000</td>\n",
       "      <td>8180.000000</td>\n",
       "      <td>8180.000000</td>\n",
       "      <td>8180.000000</td>\n",
       "      <td>8180.000000</td>\n",
       "      <td>8180.000000</td>\n",
       "    </tr>\n",
       "    <tr>\n",
       "      <th>mean</th>\n",
       "      <td>0.400978</td>\n",
       "      <td>22.440131</td>\n",
       "      <td>17.401134</td>\n",
       "      <td>20.286491</td>\n",
       "      <td>17.429438</td>\n",
       "      <td>10.709797</td>\n",
       "      <td>11.843779</td>\n",
       "      <td>6.173337</td>\n",
       "      <td>7.163692</td>\n",
       "      <td>7.352934</td>\n",
       "      <td>...</td>\n",
       "      <td>0.047677</td>\n",
       "      <td>0.164303</td>\n",
       "      <td>26.103178</td>\n",
       "      <td>0.523961</td>\n",
       "      <td>0.566993</td>\n",
       "      <td>0.239487</td>\n",
       "      <td>0.076284</td>\n",
       "      <td>0.072738</td>\n",
       "      <td>0.055257</td>\n",
       "      <td>0.050611</td>\n",
       "    </tr>\n",
       "    <tr>\n",
       "      <th>std</th>\n",
       "      <td>0.490127</td>\n",
       "      <td>12.551651</td>\n",
       "      <td>7.019239</td>\n",
       "      <td>6.788211</td>\n",
       "      <td>6.075158</td>\n",
       "      <td>6.086278</td>\n",
       "      <td>6.343407</td>\n",
       "      <td>1.930269</td>\n",
       "      <td>1.718402</td>\n",
       "      <td>1.524751</td>\n",
       "      <td>...</td>\n",
       "      <td>0.277406</td>\n",
       "      <td>0.370573</td>\n",
       "      <td>3.666447</td>\n",
       "      <td>4.741416</td>\n",
       "      <td>0.495522</td>\n",
       "      <td>0.426796</td>\n",
       "      <td>0.265468</td>\n",
       "      <td>0.259722</td>\n",
       "      <td>0.228495</td>\n",
       "      <td>0.219216</td>\n",
       "    </tr>\n",
       "    <tr>\n",
       "      <th>min</th>\n",
       "      <td>0.000000</td>\n",
       "      <td>0.000000</td>\n",
       "      <td>0.000000</td>\n",
       "      <td>0.000000</td>\n",
       "      <td>0.000000</td>\n",
       "      <td>0.000000</td>\n",
       "      <td>0.000000</td>\n",
       "      <td>0.000000</td>\n",
       "      <td>0.000000</td>\n",
       "      <td>0.000000</td>\n",
       "      <td>...</td>\n",
       "      <td>0.000000</td>\n",
       "      <td>0.000000</td>\n",
       "      <td>19.000000</td>\n",
       "      <td>-32.000000</td>\n",
       "      <td>0.000000</td>\n",
       "      <td>0.000000</td>\n",
       "      <td>0.000000</td>\n",
       "      <td>0.000000</td>\n",
       "      <td>0.000000</td>\n",
       "      <td>0.000000</td>\n",
       "    </tr>\n",
       "    <tr>\n",
       "      <th>25%</th>\n",
       "      <td>0.000000</td>\n",
       "      <td>15.000000</td>\n",
       "      <td>15.000000</td>\n",
       "      <td>17.390000</td>\n",
       "      <td>15.000000</td>\n",
       "      <td>5.000000</td>\n",
       "      <td>9.520000</td>\n",
       "      <td>5.000000</td>\n",
       "      <td>6.000000</td>\n",
       "      <td>7.000000</td>\n",
       "      <td>...</td>\n",
       "      <td>0.000000</td>\n",
       "      <td>0.000000</td>\n",
       "      <td>23.000000</td>\n",
       "      <td>-2.000000</td>\n",
       "      <td>0.000000</td>\n",
       "      <td>0.000000</td>\n",
       "      <td>0.000000</td>\n",
       "      <td>0.000000</td>\n",
       "      <td>0.000000</td>\n",
       "      <td>0.000000</td>\n",
       "    </tr>\n",
       "    <tr>\n",
       "      <th>50%</th>\n",
       "      <td>0.000000</td>\n",
       "      <td>20.000000</td>\n",
       "      <td>18.180000</td>\n",
       "      <td>20.000000</td>\n",
       "      <td>18.000000</td>\n",
       "      <td>10.000000</td>\n",
       "      <td>10.640000</td>\n",
       "      <td>6.000000</td>\n",
       "      <td>7.000000</td>\n",
       "      <td>7.000000</td>\n",
       "      <td>...</td>\n",
       "      <td>0.000000</td>\n",
       "      <td>0.000000</td>\n",
       "      <td>26.000000</td>\n",
       "      <td>1.000000</td>\n",
       "      <td>1.000000</td>\n",
       "      <td>0.000000</td>\n",
       "      <td>0.000000</td>\n",
       "      <td>0.000000</td>\n",
       "      <td>0.000000</td>\n",
       "      <td>0.000000</td>\n",
       "    </tr>\n",
       "    <tr>\n",
       "      <th>75%</th>\n",
       "      <td>1.000000</td>\n",
       "      <td>25.000000</td>\n",
       "      <td>20.000000</td>\n",
       "      <td>23.810000</td>\n",
       "      <td>20.000000</td>\n",
       "      <td>15.000000</td>\n",
       "      <td>16.000000</td>\n",
       "      <td>7.000000</td>\n",
       "      <td>8.000000</td>\n",
       "      <td>8.000000</td>\n",
       "      <td>...</td>\n",
       "      <td>0.000000</td>\n",
       "      <td>0.000000</td>\n",
       "      <td>28.000000</td>\n",
       "      <td>3.000000</td>\n",
       "      <td>1.000000</td>\n",
       "      <td>0.000000</td>\n",
       "      <td>0.000000</td>\n",
       "      <td>0.000000</td>\n",
       "      <td>0.000000</td>\n",
       "      <td>0.000000</td>\n",
       "    </tr>\n",
       "    <tr>\n",
       "      <th>max</th>\n",
       "      <td>1.000000</td>\n",
       "      <td>100.000000</td>\n",
       "      <td>60.000000</td>\n",
       "      <td>50.000000</td>\n",
       "      <td>50.000000</td>\n",
       "      <td>53.000000</td>\n",
       "      <td>30.000000</td>\n",
       "      <td>10.500000</td>\n",
       "      <td>10.000000</td>\n",
       "      <td>10.000000</td>\n",
       "      <td>...</td>\n",
       "      <td>8.000000</td>\n",
       "      <td>1.000000</td>\n",
       "      <td>55.000000</td>\n",
       "      <td>20.000000</td>\n",
       "      <td>1.000000</td>\n",
       "      <td>1.000000</td>\n",
       "      <td>1.000000</td>\n",
       "      <td>1.000000</td>\n",
       "      <td>1.000000</td>\n",
       "      <td>1.000000</td>\n",
       "    </tr>\n",
       "  </tbody>\n",
       "</table>\n",
       "<p>8 rows × 42 columns</p>\n",
       "</div>"
      ],
      "text/plain": [
       "          samerace  pref_o_attractive  pref_o_sincere  pref_o_intelligence  \\\n",
       "count  8180.000000        8180.000000     8180.000000          8180.000000   \n",
       "mean      0.400978          22.440131       17.401134            20.286491   \n",
       "std       0.490127          12.551651        7.019239             6.788211   \n",
       "min       0.000000           0.000000        0.000000             0.000000   \n",
       "25%       0.000000          15.000000       15.000000            17.390000   \n",
       "50%       0.000000          20.000000       18.180000            20.000000   \n",
       "75%       1.000000          25.000000       20.000000            23.810000   \n",
       "max       1.000000         100.000000       60.000000            50.000000   \n",
       "\n",
       "       pref_o_funny  pref_o_ambitious  pref_o_shared_interests  attractive_o  \\\n",
       "count   8180.000000       8180.000000              8180.000000   8180.000000   \n",
       "mean      17.429438         10.709797                11.843779      6.173337   \n",
       "std        6.075158          6.086278                 6.343407      1.930269   \n",
       "min        0.000000          0.000000                 0.000000      0.000000   \n",
       "25%       15.000000          5.000000                 9.520000      5.000000   \n",
       "50%       18.000000         10.000000                10.640000      6.000000   \n",
       "75%       20.000000         15.000000                16.000000      7.000000   \n",
       "max       50.000000         53.000000                30.000000     10.500000   \n",
       "\n",
       "         sincere_o  intelligence_o  ...          met        match  \\\n",
       "count  8180.000000     8180.000000  ...  8180.000000  8180.000000   \n",
       "mean      7.163692        7.352934  ...     0.047677     0.164303   \n",
       "std       1.718402        1.524751  ...     0.277406     0.370573   \n",
       "min       0.000000        0.000000  ...     0.000000     0.000000   \n",
       "25%       6.000000        7.000000  ...     0.000000     0.000000   \n",
       "50%       7.000000        7.000000  ...     0.000000     0.000000   \n",
       "75%       8.000000        8.000000  ...     0.000000     0.000000   \n",
       "max      10.000000       10.000000  ...     8.000000     1.000000   \n",
       "\n",
       "             f_age  m_to_f_agediff    caucasian        asian     business  \\\n",
       "count  8180.000000     8180.000000  8180.000000  8180.000000  8180.000000   \n",
       "mean     26.103178        0.523961     0.566993     0.239487     0.076284   \n",
       "std       3.666447        4.741416     0.495522     0.426796     0.265468   \n",
       "min      19.000000      -32.000000     0.000000     0.000000     0.000000   \n",
       "25%      23.000000       -2.000000     0.000000     0.000000     0.000000   \n",
       "50%      26.000000        1.000000     1.000000     0.000000     0.000000   \n",
       "75%      28.000000        3.000000     1.000000     0.000000     0.000000   \n",
       "max      55.000000       20.000000     1.000000     1.000000     1.000000   \n",
       "\n",
       "               law          mba  social work  \n",
       "count  8180.000000  8180.000000  8180.000000  \n",
       "mean      0.072738     0.055257     0.050611  \n",
       "std       0.259722     0.228495     0.219216  \n",
       "min       0.000000     0.000000     0.000000  \n",
       "25%       0.000000     0.000000     0.000000  \n",
       "50%       0.000000     0.000000     0.000000  \n",
       "75%       0.000000     0.000000     0.000000  \n",
       "max       1.000000     1.000000     1.000000  \n",
       "\n",
       "[8 rows x 42 columns]"
      ]
     },
     "execution_count": 48,
     "metadata": {},
     "output_type": "execute_result"
    }
   ],
   "source": [
    "df_conv.describe()"
   ]
  },
  {
   "cell_type": "code",
   "execution_count": 49,
   "metadata": {},
   "outputs": [],
   "source": [
    "# Convert all preference/importance columns (12 in total) to 10-point scales\n",
    "for c1, c2 in zip(df_conv.filter(regex='pref_o_').columns, df_conv.filter(regex='_important$').columns):\n",
    "    df_conv[c1] = (df_conv[c1] / 10).round(1)\n",
    "    df_conv[c2] = (df_conv[c2] / 10).round(1)"
   ]
  },
  {
   "cell_type": "code",
   "execution_count": 50,
   "metadata": {},
   "outputs": [],
   "source": [
    "# Calculate aggregates of groups that can't be included in for loop\n",
    "self_rating_cols = ['attractive', 'sincere', 'intelligence', 'funny', 'ambition']\n",
    "df_conv['sub_rate_self_avg'] = df_conv[self_rating_cols].mean(axis=1).round(1)\n",
    "df_conv['o_pref_avg'] = df_conv.filter(regex='pref_o_').mean(axis=1).round(1)\n",
    "\n",
    "# Calculate aggregates of all other ratings\n",
    "res = ['_o', '_important', '_partner']\n",
    "agg_names = ['o_rate_sub_avg', 'sub_pref_avg', 'sub_rate_o_avg']\n",
    "for r, n in zip(res, agg_names):\n",
    "    re = r + '$'\n",
    "    df_conv[n] = df_conv.filter(regex=re).mean(axis=1).round(1)"
   ]
  },
  {
   "cell_type": "code",
   "execution_count": 51,
   "metadata": {},
   "outputs": [],
   "source": [
    "# Dummify gender column\n",
    "df_conv['gender'] = df_conv.gender.apply(lambda x: 1 if x=='male' else 0)"
   ]
  },
  {
   "cell_type": "code",
   "execution_count": 52,
   "metadata": {},
   "outputs": [
    {
     "data": {
      "text/html": [
       "<div>\n",
       "<style scoped>\n",
       "    .dataframe tbody tr th:only-of-type {\n",
       "        vertical-align: middle;\n",
       "    }\n",
       "\n",
       "    .dataframe tbody tr th {\n",
       "        vertical-align: top;\n",
       "    }\n",
       "\n",
       "    .dataframe thead th {\n",
       "        text-align: right;\n",
       "    }\n",
       "</style>\n",
       "<table border=\"1\" class=\"dataframe\">\n",
       "  <thead>\n",
       "    <tr style=\"text-align: right;\">\n",
       "      <th></th>\n",
       "      <th>gender</th>\n",
       "      <th>samerace</th>\n",
       "      <th>pref_o_attractive</th>\n",
       "      <th>pref_o_sincere</th>\n",
       "      <th>pref_o_intelligence</th>\n",
       "      <th>pref_o_funny</th>\n",
       "      <th>pref_o_ambitious</th>\n",
       "      <th>pref_o_shared_interests</th>\n",
       "      <th>attractive_o</th>\n",
       "      <th>sincere_o</th>\n",
       "      <th>...</th>\n",
       "      <th>asian</th>\n",
       "      <th>business</th>\n",
       "      <th>law</th>\n",
       "      <th>mba</th>\n",
       "      <th>social work</th>\n",
       "      <th>sub_rate_self_avg</th>\n",
       "      <th>o_pref_avg</th>\n",
       "      <th>o_rate_sub_avg</th>\n",
       "      <th>sub_pref_avg</th>\n",
       "      <th>sub_rate_o_avg</th>\n",
       "    </tr>\n",
       "  </thead>\n",
       "  <tbody>\n",
       "    <tr>\n",
       "      <th>0</th>\n",
       "      <td>0</td>\n",
       "      <td>0</td>\n",
       "      <td>3.5</td>\n",
       "      <td>2.0</td>\n",
       "      <td>2.0</td>\n",
       "      <td>2.0</td>\n",
       "      <td>0.0</td>\n",
       "      <td>0.5</td>\n",
       "      <td>6.0</td>\n",
       "      <td>8.0</td>\n",
       "      <td>...</td>\n",
       "      <td>1</td>\n",
       "      <td>0</td>\n",
       "      <td>1</td>\n",
       "      <td>0</td>\n",
       "      <td>0</td>\n",
       "      <td>7.4</td>\n",
       "      <td>1.7</td>\n",
       "      <td>7.3</td>\n",
       "      <td>1.7</td>\n",
       "      <td>6.7</td>\n",
       "    </tr>\n",
       "    <tr>\n",
       "      <th>1</th>\n",
       "      <td>0</td>\n",
       "      <td>0</td>\n",
       "      <td>6.0</td>\n",
       "      <td>0.0</td>\n",
       "      <td>0.0</td>\n",
       "      <td>4.0</td>\n",
       "      <td>0.0</td>\n",
       "      <td>0.0</td>\n",
       "      <td>7.0</td>\n",
       "      <td>8.0</td>\n",
       "      <td>...</td>\n",
       "      <td>1</td>\n",
       "      <td>0</td>\n",
       "      <td>1</td>\n",
       "      <td>0</td>\n",
       "      <td>0</td>\n",
       "      <td>7.4</td>\n",
       "      <td>1.7</td>\n",
       "      <td>7.3</td>\n",
       "      <td>1.7</td>\n",
       "      <td>6.8</td>\n",
       "    </tr>\n",
       "    <tr>\n",
       "      <th>2</th>\n",
       "      <td>0</td>\n",
       "      <td>1</td>\n",
       "      <td>1.9</td>\n",
       "      <td>1.8</td>\n",
       "      <td>1.9</td>\n",
       "      <td>1.8</td>\n",
       "      <td>1.4</td>\n",
       "      <td>1.2</td>\n",
       "      <td>10.0</td>\n",
       "      <td>10.0</td>\n",
       "      <td>...</td>\n",
       "      <td>1</td>\n",
       "      <td>0</td>\n",
       "      <td>1</td>\n",
       "      <td>0</td>\n",
       "      <td>0</td>\n",
       "      <td>7.4</td>\n",
       "      <td>1.7</td>\n",
       "      <td>10.0</td>\n",
       "      <td>1.7</td>\n",
       "      <td>7.0</td>\n",
       "    </tr>\n",
       "    <tr>\n",
       "      <th>3</th>\n",
       "      <td>0</td>\n",
       "      <td>0</td>\n",
       "      <td>3.0</td>\n",
       "      <td>0.5</td>\n",
       "      <td>1.5</td>\n",
       "      <td>4.0</td>\n",
       "      <td>0.5</td>\n",
       "      <td>0.5</td>\n",
       "      <td>7.0</td>\n",
       "      <td>8.0</td>\n",
       "      <td>...</td>\n",
       "      <td>1</td>\n",
       "      <td>0</td>\n",
       "      <td>1</td>\n",
       "      <td>0</td>\n",
       "      <td>0</td>\n",
       "      <td>7.4</td>\n",
       "      <td>1.7</td>\n",
       "      <td>8.2</td>\n",
       "      <td>1.7</td>\n",
       "      <td>7.0</td>\n",
       "    </tr>\n",
       "    <tr>\n",
       "      <th>4</th>\n",
       "      <td>0</td>\n",
       "      <td>0</td>\n",
       "      <td>3.0</td>\n",
       "      <td>1.0</td>\n",
       "      <td>2.0</td>\n",
       "      <td>1.0</td>\n",
       "      <td>1.0</td>\n",
       "      <td>2.0</td>\n",
       "      <td>8.0</td>\n",
       "      <td>7.0</td>\n",
       "      <td>...</td>\n",
       "      <td>1</td>\n",
       "      <td>0</td>\n",
       "      <td>1</td>\n",
       "      <td>0</td>\n",
       "      <td>0</td>\n",
       "      <td>7.4</td>\n",
       "      <td>1.7</td>\n",
       "      <td>7.7</td>\n",
       "      <td>1.7</td>\n",
       "      <td>6.2</td>\n",
       "    </tr>\n",
       "  </tbody>\n",
       "</table>\n",
       "<p>5 rows × 48 columns</p>\n",
       "</div>"
      ],
      "text/plain": [
       "   gender  samerace  pref_o_attractive  pref_o_sincere  pref_o_intelligence  \\\n",
       "0       0         0                3.5             2.0                  2.0   \n",
       "1       0         0                6.0             0.0                  0.0   \n",
       "2       0         1                1.9             1.8                  1.9   \n",
       "3       0         0                3.0             0.5                  1.5   \n",
       "4       0         0                3.0             1.0                  2.0   \n",
       "\n",
       "   pref_o_funny  pref_o_ambitious  pref_o_shared_interests  attractive_o  \\\n",
       "0           2.0               0.0                      0.5           6.0   \n",
       "1           4.0               0.0                      0.0           7.0   \n",
       "2           1.8               1.4                      1.2          10.0   \n",
       "3           4.0               0.5                      0.5           7.0   \n",
       "4           1.0               1.0                      2.0           8.0   \n",
       "\n",
       "   sincere_o  ...  asian  business  law  mba  social work  sub_rate_self_avg  \\\n",
       "0        8.0  ...      1         0    1    0            0                7.4   \n",
       "1        8.0  ...      1         0    1    0            0                7.4   \n",
       "2       10.0  ...      1         0    1    0            0                7.4   \n",
       "3        8.0  ...      1         0    1    0            0                7.4   \n",
       "4        7.0  ...      1         0    1    0            0                7.4   \n",
       "\n",
       "   o_pref_avg  o_rate_sub_avg  sub_pref_avg  sub_rate_o_avg  \n",
       "0         1.7             7.3           1.7             6.7  \n",
       "1         1.7             7.3           1.7             6.8  \n",
       "2         1.7            10.0           1.7             7.0  \n",
       "3         1.7             8.2           1.7             7.0  \n",
       "4         1.7             7.7           1.7             6.2  \n",
       "\n",
       "[5 rows x 48 columns]"
      ]
     },
     "execution_count": 52,
     "metadata": {},
     "output_type": "execute_result"
    }
   ],
   "source": [
    "df_conv.head()"
   ]
  },
  {
   "cell_type": "code",
   "execution_count": 53,
   "metadata": {},
   "outputs": [],
   "source": [
    "# Make new dataframe for correlation matrix, dropping most individual rating columns\n",
    "df_corr = df_conv.drop(columns=self_rating_cols)\n",
    "drop_res = ['^pref_o_', '_o$', '_important$', '_partner$']\n",
    "for r in drop_res:\n",
    "    df_corr = df_corr.drop(columns=df_corr.filter(regex=r))"
   ]
  },
  {
   "cell_type": "code",
   "execution_count": 54,
   "metadata": {},
   "outputs": [
    {
     "data": {
      "text/html": [
       "<div>\n",
       "<style scoped>\n",
       "    .dataframe tbody tr th:only-of-type {\n",
       "        vertical-align: middle;\n",
       "    }\n",
       "\n",
       "    .dataframe tbody tr th {\n",
       "        vertical-align: top;\n",
       "    }\n",
       "\n",
       "    .dataframe thead th {\n",
       "        text-align: right;\n",
       "    }\n",
       "</style>\n",
       "<table border=\"1\" class=\"dataframe\">\n",
       "  <thead>\n",
       "    <tr style=\"text-align: right;\">\n",
       "      <th></th>\n",
       "      <th>gender</th>\n",
       "      <th>samerace</th>\n",
       "      <th>interests_correlate</th>\n",
       "      <th>expected_num_matches</th>\n",
       "      <th>met</th>\n",
       "      <th>match</th>\n",
       "      <th>f_age</th>\n",
       "      <th>m_to_f_agediff</th>\n",
       "      <th>caucasian</th>\n",
       "      <th>asian</th>\n",
       "      <th>business</th>\n",
       "      <th>law</th>\n",
       "      <th>mba</th>\n",
       "      <th>social work</th>\n",
       "      <th>sub_rate_self_avg</th>\n",
       "      <th>o_pref_avg</th>\n",
       "      <th>o_rate_sub_avg</th>\n",
       "      <th>sub_pref_avg</th>\n",
       "      <th>sub_rate_o_avg</th>\n",
       "    </tr>\n",
       "  </thead>\n",
       "  <tbody>\n",
       "    <tr>\n",
       "      <th>0</th>\n",
       "      <td>0</td>\n",
       "      <td>0</td>\n",
       "      <td>0.14</td>\n",
       "      <td>4.0</td>\n",
       "      <td>0.0</td>\n",
       "      <td>0</td>\n",
       "      <td>21</td>\n",
       "      <td>6</td>\n",
       "      <td>0</td>\n",
       "      <td>1</td>\n",
       "      <td>0</td>\n",
       "      <td>1</td>\n",
       "      <td>0</td>\n",
       "      <td>0</td>\n",
       "      <td>7.4</td>\n",
       "      <td>1.7</td>\n",
       "      <td>7.3</td>\n",
       "      <td>1.7</td>\n",
       "      <td>6.7</td>\n",
       "    </tr>\n",
       "    <tr>\n",
       "      <th>1</th>\n",
       "      <td>0</td>\n",
       "      <td>0</td>\n",
       "      <td>0.54</td>\n",
       "      <td>4.0</td>\n",
       "      <td>1.0</td>\n",
       "      <td>0</td>\n",
       "      <td>21</td>\n",
       "      <td>1</td>\n",
       "      <td>0</td>\n",
       "      <td>1</td>\n",
       "      <td>0</td>\n",
       "      <td>1</td>\n",
       "      <td>0</td>\n",
       "      <td>0</td>\n",
       "      <td>7.4</td>\n",
       "      <td>1.7</td>\n",
       "      <td>7.3</td>\n",
       "      <td>1.7</td>\n",
       "      <td>6.8</td>\n",
       "    </tr>\n",
       "    <tr>\n",
       "      <th>2</th>\n",
       "      <td>0</td>\n",
       "      <td>1</td>\n",
       "      <td>0.16</td>\n",
       "      <td>4.0</td>\n",
       "      <td>1.0</td>\n",
       "      <td>1</td>\n",
       "      <td>21</td>\n",
       "      <td>1</td>\n",
       "      <td>0</td>\n",
       "      <td>1</td>\n",
       "      <td>0</td>\n",
       "      <td>1</td>\n",
       "      <td>0</td>\n",
       "      <td>0</td>\n",
       "      <td>7.4</td>\n",
       "      <td>1.7</td>\n",
       "      <td>10.0</td>\n",
       "      <td>1.7</td>\n",
       "      <td>7.0</td>\n",
       "    </tr>\n",
       "    <tr>\n",
       "      <th>3</th>\n",
       "      <td>0</td>\n",
       "      <td>0</td>\n",
       "      <td>0.61</td>\n",
       "      <td>4.0</td>\n",
       "      <td>0.0</td>\n",
       "      <td>1</td>\n",
       "      <td>21</td>\n",
       "      <td>2</td>\n",
       "      <td>0</td>\n",
       "      <td>1</td>\n",
       "      <td>0</td>\n",
       "      <td>1</td>\n",
       "      <td>0</td>\n",
       "      <td>0</td>\n",
       "      <td>7.4</td>\n",
       "      <td>1.7</td>\n",
       "      <td>8.2</td>\n",
       "      <td>1.7</td>\n",
       "      <td>7.0</td>\n",
       "    </tr>\n",
       "    <tr>\n",
       "      <th>4</th>\n",
       "      <td>0</td>\n",
       "      <td>0</td>\n",
       "      <td>0.21</td>\n",
       "      <td>4.0</td>\n",
       "      <td>0.0</td>\n",
       "      <td>1</td>\n",
       "      <td>21</td>\n",
       "      <td>3</td>\n",
       "      <td>0</td>\n",
       "      <td>1</td>\n",
       "      <td>0</td>\n",
       "      <td>1</td>\n",
       "      <td>0</td>\n",
       "      <td>0</td>\n",
       "      <td>7.4</td>\n",
       "      <td>1.7</td>\n",
       "      <td>7.7</td>\n",
       "      <td>1.7</td>\n",
       "      <td>6.2</td>\n",
       "    </tr>\n",
       "  </tbody>\n",
       "</table>\n",
       "</div>"
      ],
      "text/plain": [
       "   gender  samerace  interests_correlate  expected_num_matches  met  match  \\\n",
       "0       0         0                 0.14                   4.0  0.0      0   \n",
       "1       0         0                 0.54                   4.0  1.0      0   \n",
       "2       0         1                 0.16                   4.0  1.0      1   \n",
       "3       0         0                 0.61                   4.0  0.0      1   \n",
       "4       0         0                 0.21                   4.0  0.0      1   \n",
       "\n",
       "   f_age  m_to_f_agediff  caucasian  asian  business  law  mba  social work  \\\n",
       "0     21               6          0      1         0    1    0            0   \n",
       "1     21               1          0      1         0    1    0            0   \n",
       "2     21               1          0      1         0    1    0            0   \n",
       "3     21               2          0      1         0    1    0            0   \n",
       "4     21               3          0      1         0    1    0            0   \n",
       "\n",
       "   sub_rate_self_avg  o_pref_avg  o_rate_sub_avg  sub_pref_avg  sub_rate_o_avg  \n",
       "0                7.4         1.7             7.3           1.7             6.7  \n",
       "1                7.4         1.7             7.3           1.7             6.8  \n",
       "2                7.4         1.7            10.0           1.7             7.0  \n",
       "3                7.4         1.7             8.2           1.7             7.0  \n",
       "4                7.4         1.7             7.7           1.7             6.2  "
      ]
     },
     "execution_count": 54,
     "metadata": {},
     "output_type": "execute_result"
    }
   ],
   "source": [
    "df_corr.head()"
   ]
  },
  {
   "cell_type": "code",
   "execution_count": 55,
   "metadata": {},
   "outputs": [
    {
     "data": {
      "image/png": "[encoded data removed]",
      "text/plain": [
       "<Figure size 720x504 with 2 Axes>"
      ]
     },
     "metadata": {},
     "output_type": "display_data"
    }
   ],
   "source": [
    "# Make correlation heatmap\n",
    "plt.style.use('fivethirtyeight')\n",
    "def heatmap(x, y, size, color):\n",
    "    fig, ax = plt.subplots(figsize=(10,7))\n",
    "    # Mapping from column names to integer coordinates\n",
    "    x_labels = [v for v in sorted(x.unique())]\n",
    "    y_labels = [v for v in sorted(y.unique())]\n",
    "    x_to_num = {p[1]:p[0] for p in enumerate(x_labels)} \n",
    "    y_to_num = {p[1]:p[0] for p in enumerate(y_labels)} \n",
    "    \n",
    "    size_scale = 500\n",
    "    \n",
    "    n_colors = 256 # Use 256 colors for the diverging color palette\n",
    "    palette = sns.diverging_palette(20, 220, n=n_colors) # Create the palette\n",
    "    color_min, color_max = [-1, 1] # Range of values that will be mapped to the palette, i.e. min and max possible correlation\n",
    "\n",
    "    def value_to_color(val):\n",
    "        val_position = float((val - color_min)) / (color_max - color_min) # position of value in the input range, relative to the length of the input range\n",
    "        ind = int(val_position * (n_colors - 1)) # target index in the color palette\n",
    "        return palette[ind]\n",
    "    \n",
    "    plot_grid = plt.GridSpec(1, 15, hspace=0.2, wspace=0.1) # Setup a 1x15 grid\n",
    "    ax = plt.subplot(plot_grid[:,:-1]) # Use the leftmost 14 columns of the grid for the main plot\n",
    "\n",
    "    ax.scatter(\n",
    "        x=x.map(x_to_num), # Use mapping for x\n",
    "        y=y.map(y_to_num), # Use mapping for y\n",
    "        s=size * size_scale, # Vector of square sizes, proportional to size parameter\n",
    "        c=color.apply(value_to_color), # Vector of square color values, mapped to color palette\n",
    "        marker='s' # Use square as scatterplot marker\n",
    "    )\n",
    "    \n",
    "    # Show column labels on the axes\n",
    "    ax.set_xticks([x_to_num[v] for v in x_labels])\n",
    "    ax.set_xticklabels(x_labels, rotation=45, horizontalalignment='right')\n",
    "    ax.set_yticks([y_to_num[v] for v in y_labels])\n",
    "    ax.set_yticklabels(y_labels)\n",
    "    \n",
    "    ax.grid(False, 'major')\n",
    "    ax.grid(True, 'minor')\n",
    "    ax.set_xticks([t + 0.5 for t in ax.get_xticks()], minor=True)\n",
    "    ax.set_yticks([t + 0.5 for t in ax.get_yticks()], minor=True)\n",
    "    \n",
    "    ax.set_xlim([-0.5, max([v for v in x_to_num.values()]) + 0.5]) \n",
    "    ax.set_ylim([-0.5, max([v for v in y_to_num.values()]) + 0.5])\n",
    "    \n",
    "    # Add color legend on the right side of the plot\n",
    "    ax = plt.subplot(plot_grid[:,-1]) # Use the rightmost column of the plot\n",
    "\n",
    "    col_x = [0]*len(palette) # Fixed x coordinate for the bars\n",
    "    bar_y=np.linspace(color_min, color_max, n_colors) # y coordinates for each of the n_colors bars\n",
    "\n",
    "    bar_height = bar_y[1] - bar_y[0]\n",
    "    ax.barh(\n",
    "        y=bar_y,\n",
    "        width=[5]*len(palette), # Make bars 5 units wide\n",
    "        left=col_x, # Make bars start at 0\n",
    "        height=bar_height,\n",
    "        color=palette,\n",
    "        linewidth=0\n",
    "    )\n",
    "    ax.set_xlim(1, 2) # Bars are going from 0 to 5, so lets crop the plot somewhere in the middle\n",
    "    ax.grid(False) # Hide grid\n",
    "    ax.set_facecolor('white') # Make background white\n",
    "    ax.set_xticks([]) # Remove horizontal ticks\n",
    "    ax.set_yticks(np.linspace(min(bar_y), max(bar_y), 3)) # Show vertical ticks for min, middle and max\n",
    "    ax.yaxis.tick_right() # Show vertical ticks on the right \n",
    "    \n",
    "\n",
    "corr = df_corr.corr()\n",
    "corr = pd.melt(corr.reset_index(), id_vars='index') # Unpivot the dataframe, so we can get pair of arrays for x and y\n",
    "corr.columns = ['x', 'y', 'value']\n",
    "\n",
    "heatmap(\n",
    "    x=corr['x'],\n",
    "    y=corr['y'],\n",
    "    size=corr['value'].abs(),\n",
    "    color=corr['value']\n",
    ")"
   ]
  },
  {
   "cell_type": "markdown",
   "metadata": {},
   "source": [
    "##### Target column ('Match'):\n",
    "- Positive correlation with partner rating of subject & subject rating of partner\n",
    "\n",
    "##### Misc:\n",
    "- Expected negative correlation between (caucasian & asian) and (age_diff & f_age). No valuable info.\n",
    "- Expected positive correlation between (caucasian & samerace) due to majority of caucasians in sample."
   ]
  },
  {
   "cell_type": "markdown",
   "metadata": {},
   "source": [
    "###### <br>"
   ]
  },
  {
   "cell_type": "markdown",
   "metadata": {},
   "source": [
    "## Model Fitting"
   ]
  },
  {
   "cell_type": "markdown",
   "metadata": {},
   "source": [
    "- Looking to keep most individual rating columns in the modeling dataframe since (8000+ rows, 40+ columns) is a manageable dimension.\n",
    "- Logistic Regression, Random Forest, SVM (\\*normalization needed) are preliminary candidates for our binary classification problem."
   ]
  },
  {
   "cell_type": "code",
   "execution_count": 56,
   "metadata": {},
   "outputs": [],
   "source": [
    "from sklearn.model_selection import train_test_split, GridSearchCV\n",
    "from sklearn.metrics import roc_curve, roc_auc_score, accuracy_score\n",
    "from sklearn.preprocessing import StandardScaler  # For SVM\n",
    "from sklearn.pipeline import Pipeline\n",
    "from sklearn.linear_model import LogisticRegression\n",
    "from sklearn.svm import SVC\n",
    "from sklearn.ensemble import RandomForestClassifier"
   ]
  },
  {
   "cell_type": "code",
   "execution_count": 57,
   "metadata": {},
   "outputs": [],
   "source": [
    "# Remove aggregate rating columns since will be keeping the individual ones\n",
    "df_model = df_conv.drop(columns=df_conv.filter(regex='_avg$'))"
   ]
  },
  {
   "cell_type": "code",
   "execution_count": 58,
   "metadata": {},
   "outputs": [
    {
     "name": "stdout",
     "output_type": "stream",
     "text": [
      "['gender', 'samerace', 'pref_o_attractive', 'pref_o_sincere', 'pref_o_intelligence', 'pref_o_funny', 'pref_o_ambitious', 'pref_o_shared_interests', 'attractive_o', 'sincere_o', 'intelligence_o', 'funny_o', 'ambitious_o', 'shared_interests_o', 'attractive_important', 'sincere_important', 'intelligence_important', 'funny_important', 'ambition_important', 'shared_interests_important', 'attractive', 'sincere', 'intelligence', 'funny', 'ambition', 'attractive_partner', 'sincere_partner', 'intelligence_partner', 'funny_partner', 'ambition_partner', 'shared_interests_partner', 'interests_correlate', 'expected_num_matches', 'met', 'match', 'f_age', 'm_to_f_agediff', 'caucasian', 'asian', 'business', 'law', 'mba', 'social work']\n"
     ]
    }
   ],
   "source": [
    "print(list(df_model.columns.values))"
   ]
  },
  {
   "cell_type": "code",
   "execution_count": 59,
   "metadata": {},
   "outputs": [],
   "source": [
    "# Reorder columns\n",
    "df_model = df_model[['gender', 'f_age', 'm_to_f_agediff', 'caucasian', 'asian', \\\n",
    "                  'samerace', 'business', 'law', 'mba', 'social work', \\\n",
    "                  'pref_o_attractive', 'pref_o_sincere', 'pref_o_intelligence', \\\n",
    "                  'pref_o_funny', 'pref_o_ambitious', 'pref_o_shared_interests', \\\n",
    "                  'attractive_o', 'sincere_o', 'intelligence_o', 'funny_o', 'ambitious_o', \\\n",
    "                  'shared_interests_o', 'attractive_important', 'sincere_important', \\\n",
    "                  'intelligence_important', 'funny_important', 'ambition_important', \\\n",
    "                  'shared_interests_important', 'attractive', 'sincere', 'intelligence', \\\n",
    "                  'funny', 'ambition', 'attractive_partner', 'sincere_partner', \\\n",
    "                  'intelligence_partner', 'funny_partner', 'ambition_partner', \\\n",
    "                  'shared_interests_partner', 'interests_correlate', 'expected_num_matches', \\\n",
    "                  'met', 'match']]"
   ]
  },
  {
   "cell_type": "code",
   "execution_count": 60,
   "metadata": {},
   "outputs": [
    {
     "data": {
      "text/html": [
       "<div>\n",
       "<style scoped>\n",
       "    .dataframe tbody tr th:only-of-type {\n",
       "        vertical-align: middle;\n",
       "    }\n",
       "\n",
       "    .dataframe tbody tr th {\n",
       "        vertical-align: top;\n",
       "    }\n",
       "\n",
       "    .dataframe thead th {\n",
       "        text-align: right;\n",
       "    }\n",
       "</style>\n",
       "<table border=\"1\" class=\"dataframe\">\n",
       "  <thead>\n",
       "    <tr style=\"text-align: right;\">\n",
       "      <th></th>\n",
       "      <th>gender</th>\n",
       "      <th>f_age</th>\n",
       "      <th>m_to_f_agediff</th>\n",
       "      <th>caucasian</th>\n",
       "      <th>asian</th>\n",
       "      <th>samerace</th>\n",
       "      <th>business</th>\n",
       "      <th>law</th>\n",
       "      <th>mba</th>\n",
       "      <th>social work</th>\n",
       "      <th>...</th>\n",
       "      <th>attractive_partner</th>\n",
       "      <th>sincere_partner</th>\n",
       "      <th>intelligence_partner</th>\n",
       "      <th>funny_partner</th>\n",
       "      <th>ambition_partner</th>\n",
       "      <th>shared_interests_partner</th>\n",
       "      <th>interests_correlate</th>\n",
       "      <th>expected_num_matches</th>\n",
       "      <th>met</th>\n",
       "      <th>match</th>\n",
       "    </tr>\n",
       "  </thead>\n",
       "  <tbody>\n",
       "    <tr>\n",
       "      <th>0</th>\n",
       "      <td>0</td>\n",
       "      <td>21</td>\n",
       "      <td>6</td>\n",
       "      <td>0</td>\n",
       "      <td>1</td>\n",
       "      <td>0</td>\n",
       "      <td>0</td>\n",
       "      <td>1</td>\n",
       "      <td>0</td>\n",
       "      <td>0</td>\n",
       "      <td>...</td>\n",
       "      <td>6.0</td>\n",
       "      <td>9.0</td>\n",
       "      <td>7.0</td>\n",
       "      <td>7.0</td>\n",
       "      <td>6.0</td>\n",
       "      <td>5.0</td>\n",
       "      <td>0.14</td>\n",
       "      <td>4.0</td>\n",
       "      <td>0.0</td>\n",
       "      <td>0</td>\n",
       "    </tr>\n",
       "    <tr>\n",
       "      <th>1</th>\n",
       "      <td>0</td>\n",
       "      <td>21</td>\n",
       "      <td>1</td>\n",
       "      <td>0</td>\n",
       "      <td>1</td>\n",
       "      <td>0</td>\n",
       "      <td>0</td>\n",
       "      <td>1</td>\n",
       "      <td>0</td>\n",
       "      <td>0</td>\n",
       "      <td>...</td>\n",
       "      <td>7.0</td>\n",
       "      <td>8.0</td>\n",
       "      <td>7.0</td>\n",
       "      <td>8.0</td>\n",
       "      <td>5.0</td>\n",
       "      <td>6.0</td>\n",
       "      <td>0.54</td>\n",
       "      <td>4.0</td>\n",
       "      <td>1.0</td>\n",
       "      <td>0</td>\n",
       "    </tr>\n",
       "    <tr>\n",
       "      <th>2</th>\n",
       "      <td>0</td>\n",
       "      <td>21</td>\n",
       "      <td>1</td>\n",
       "      <td>0</td>\n",
       "      <td>1</td>\n",
       "      <td>1</td>\n",
       "      <td>0</td>\n",
       "      <td>1</td>\n",
       "      <td>0</td>\n",
       "      <td>0</td>\n",
       "      <td>...</td>\n",
       "      <td>5.0</td>\n",
       "      <td>8.0</td>\n",
       "      <td>9.0</td>\n",
       "      <td>8.0</td>\n",
       "      <td>5.0</td>\n",
       "      <td>7.0</td>\n",
       "      <td>0.16</td>\n",
       "      <td>4.0</td>\n",
       "      <td>1.0</td>\n",
       "      <td>1</td>\n",
       "    </tr>\n",
       "    <tr>\n",
       "      <th>3</th>\n",
       "      <td>0</td>\n",
       "      <td>21</td>\n",
       "      <td>2</td>\n",
       "      <td>0</td>\n",
       "      <td>1</td>\n",
       "      <td>0</td>\n",
       "      <td>0</td>\n",
       "      <td>1</td>\n",
       "      <td>0</td>\n",
       "      <td>0</td>\n",
       "      <td>...</td>\n",
       "      <td>7.0</td>\n",
       "      <td>6.0</td>\n",
       "      <td>8.0</td>\n",
       "      <td>7.0</td>\n",
       "      <td>6.0</td>\n",
       "      <td>8.0</td>\n",
       "      <td>0.61</td>\n",
       "      <td>4.0</td>\n",
       "      <td>0.0</td>\n",
       "      <td>1</td>\n",
       "    </tr>\n",
       "    <tr>\n",
       "      <th>4</th>\n",
       "      <td>0</td>\n",
       "      <td>21</td>\n",
       "      <td>3</td>\n",
       "      <td>0</td>\n",
       "      <td>1</td>\n",
       "      <td>0</td>\n",
       "      <td>0</td>\n",
       "      <td>1</td>\n",
       "      <td>0</td>\n",
       "      <td>0</td>\n",
       "      <td>...</td>\n",
       "      <td>5.0</td>\n",
       "      <td>6.0</td>\n",
       "      <td>7.0</td>\n",
       "      <td>7.0</td>\n",
       "      <td>6.0</td>\n",
       "      <td>6.0</td>\n",
       "      <td>0.21</td>\n",
       "      <td>4.0</td>\n",
       "      <td>0.0</td>\n",
       "      <td>1</td>\n",
       "    </tr>\n",
       "  </tbody>\n",
       "</table>\n",
       "<p>5 rows × 43 columns</p>\n",
       "</div>"
      ],
      "text/plain": [
       "   gender  f_age  m_to_f_agediff  caucasian  asian  samerace  business  law  \\\n",
       "0       0     21               6          0      1         0         0    1   \n",
       "1       0     21               1          0      1         0         0    1   \n",
       "2       0     21               1          0      1         1         0    1   \n",
       "3       0     21               2          0      1         0         0    1   \n",
       "4       0     21               3          0      1         0         0    1   \n",
       "\n",
       "   mba  social work  ...  attractive_partner  sincere_partner  \\\n",
       "0    0            0  ...                 6.0              9.0   \n",
       "1    0            0  ...                 7.0              8.0   \n",
       "2    0            0  ...                 5.0              8.0   \n",
       "3    0            0  ...                 7.0              6.0   \n",
       "4    0            0  ...                 5.0              6.0   \n",
       "\n",
       "   intelligence_partner  funny_partner  ambition_partner  \\\n",
       "0                   7.0            7.0               6.0   \n",
       "1                   7.0            8.0               5.0   \n",
       "2                   9.0            8.0               5.0   \n",
       "3                   8.0            7.0               6.0   \n",
       "4                   7.0            7.0               6.0   \n",
       "\n",
       "   shared_interests_partner  interests_correlate  expected_num_matches  met  \\\n",
       "0                       5.0                 0.14                   4.0  0.0   \n",
       "1                       6.0                 0.54                   4.0  1.0   \n",
       "2                       7.0                 0.16                   4.0  1.0   \n",
       "3                       8.0                 0.61                   4.0  0.0   \n",
       "4                       6.0                 0.21                   4.0  0.0   \n",
       "\n",
       "   match  \n",
       "0      0  \n",
       "1      0  \n",
       "2      1  \n",
       "3      1  \n",
       "4      1  \n",
       "\n",
       "[5 rows x 43 columns]"
      ]
     },
     "execution_count": 60,
     "metadata": {},
     "output_type": "execute_result"
    }
   ],
   "source": [
    "df_model.head()"
   ]
  },
  {
   "cell_type": "code",
   "execution_count": 61,
   "metadata": {},
   "outputs": [],
   "source": [
    "# Train-Test Split\n",
    "X = df_model.drop('match', axis=1).values\n",
    "y = df_model['match'].values\n",
    "\n",
    "X_train, X_test, y_train, y_test = train_test_split(X, y, test_size = 0.3,\n",
    "                                                    random_state = 1, stratify = y)"
   ]
  },
  {
   "cell_type": "markdown",
   "metadata": {},
   "source": [
    "### Logistic Regression"
   ]
  },
  {
   "cell_type": "code",
   "execution_count": 62,
   "metadata": {},
   "outputs": [
    {
     "name": "stdout",
     "output_type": "stream",
     "text": [
      "Best parameter value:  {'C': 3.727593720314938}\n"
     ]
    }
   ],
   "source": [
    "# Logistic Regression\n",
    "param_grid = {'C': np.logspace(-5, 8, 15)}\n",
    "logreg = LogisticRegression(solver='lbfgs', n_jobs=-1, random_state=1)\n",
    "\n",
    "logreg_cv = GridSearchCV(logreg, param_grid, cv=5)\n",
    "logreg_cv.fit(X_train, y_train)\n",
    "\n",
    "print('Best parameter value: ', logreg_cv.best_params_)"
   ]
  },
  {
   "cell_type": "code",
   "execution_count": 63,
   "metadata": {},
   "outputs": [
    {
     "name": "stdout",
     "output_type": "stream",
     "text": [
      "Optimized Logistic Regression Accuracy Score:  0.8492257538712307\n",
      "Optimized Logistic Regression ROC/AUC Score:  0.8153306563523453\n"
     ]
    },
    {
     "data": {
      "text/plain": [
       "''"
      ]
     },
     "execution_count": 63,
     "metadata": {},
     "output_type": "execute_result"
    },
    {
     "data": {
      "image/png": "[encoded data removed]",
      "text/plain": [
       "<Figure size 432x288 with 1 Axes>"
      ]
     },
     "metadata": {},
     "output_type": "display_data"
    }
   ],
   "source": [
    "# Model Logistic Regression with optimized parameter\n",
    "logreg_opt = LogisticRegression(solver='lbfgs',\n",
    "                                C=3.73,\n",
    "                                random_state=1,\n",
    "                                n_jobs=-1)\n",
    "logreg_opt.fit(X_train, y_train)\n",
    "y_pred_logreg = logreg_opt.predict(X_test)\n",
    "\n",
    "# Calculate Accuracy Score\n",
    "print('Optimized Logistic Regression Accuracy Score: ', accuracy_score(y_test,\n",
    "                                                                       y_pred_logreg))\n",
    "\n",
    "#Plot ROC Curve\n",
    "y_pred_prob_logreg = logreg_opt.predict_proba(X_test)[:,1]\n",
    "fpr_logreg, tpr_logreg, threshold_logreg = roc_curve(y_test, y_pred_prob_logreg)\n",
    "\n",
    "print('Optimized Logistic Regression ROC/AUC Score: ', roc_auc_score(y_test,\n",
    "                                                                     y_pred_prob_logreg))\n",
    "plt.plot([0,1], [0,1], 'k--')\n",
    "plt.plot(fpr_logreg, tpr_logreg)\n",
    ";"
   ]
  },
  {
   "cell_type": "markdown",
   "metadata": {},
   "source": [
    "### SVM"
   ]
  },
  {
   "cell_type": "code",
   "execution_count": 64,
   "metadata": {},
   "outputs": [
    {
     "name": "stdout",
     "output_type": "stream",
     "text": [
      "Best parameters:  {'SVM__C': 10, 'SVM__gamma': 0.01}\n"
     ]
    }
   ],
   "source": [
    "# SVM\n",
    "steps = [('scaler', StandardScaler()),\n",
    "         ('SVM', SVC(random_state=1))]\n",
    "\n",
    "pipeline = Pipeline(steps)\n",
    "\n",
    "parameters = {'SVM__C' :[1, 10, 100],\n",
    "              'SVM__gamma' :[0.1, 0.01]}\n",
    "\n",
    "svm_cv = GridSearchCV(pipeline, parameters, cv=5)\n",
    "svm_cv.fit(X_train, y_train)\n",
    "\n",
    "print('Best parameters: ', svm_cv.best_params_)"
   ]
  },
  {
   "cell_type": "code",
   "execution_count": 65,
   "metadata": {},
   "outputs": [
    {
     "name": "stdout",
     "output_type": "stream",
     "text": [
      "Optimized SVM Accuracy Score:  0.8557457212713936\n"
     ]
    }
   ],
   "source": [
    "# Model SVM with optimized parameters\n",
    "svm_opt = SVC(random_state=1,\n",
    "              C=10,\n",
    "              gamma=0.01)\n",
    "steps = [('scaler', StandardScaler()),\n",
    "         ('SVM', svm_opt)]\n",
    "\n",
    "pipeline = Pipeline(steps)\n",
    "pipeline.fit(X_train, y_train)\n",
    "y_pred_svm = pipeline.predict(X_test)\n",
    "\n",
    "# Calculate Accuracy Score\n",
    "print('Optimized SVM Accuracy Score: ', accuracy_score(y_test, y_pred_svm))"
   ]
  },
  {
   "cell_type": "markdown",
   "metadata": {},
   "source": [
    "### Random Forest"
   ]
  },
  {
   "cell_type": "code",
   "execution_count": 66,
   "metadata": {},
   "outputs": [
    {
     "name": "stdout",
     "output_type": "stream",
     "text": [
      "Best parameters:  {'max_depth': 15, 'min_samples_leaf': 1, 'min_samples_split': 2, 'n_estimators': 500}\n"
     ]
    }
   ],
   "source": [
    "# GridSearch Random Forest to optimize parameters\n",
    "rfc = RandomForestClassifier(random_state=1)\n",
    "param_grid = {'n_estimators' :[100, 300, 500, 800, 1200],\n",
    "              'max_depth' :[5, 8, 15, 25, 30],\n",
    "              'min_samples_split' :[2, 5, 10, 15, 100],\n",
    "              'min_samples_leaf' :[1, 2, 5, 10]}\n",
    "\n",
    "rfc_cv = GridSearchCV(rfc, param_grid, cv=5, n_jobs=-1)\n",
    "rfc_cv.fit(X_train, y_train)\n",
    "\n",
    "print('Best parameters: ', rfc_cv.best_params_)"
   ]
  },
  {
   "cell_type": "code",
   "execution_count": 67,
   "metadata": {},
   "outputs": [
    {
     "name": "stdout",
     "output_type": "stream",
     "text": [
      "Optimized Random Forest Classifier Accuracy Score:  0.8561532192339039\n",
      "Optimized Random Forest Classifier ROC/AUC Score:  0.8210737847421762\n"
     ]
    },
    {
     "data": {
      "text/plain": [
       "''"
      ]
     },
     "execution_count": 67,
     "metadata": {},
     "output_type": "execute_result"
    },
    {
     "data": {
      "image/png": "[encoded data removed]",
      "text/plain": [
       "<Figure size 432x288 with 1 Axes>"
      ]
     },
     "metadata": {},
     "output_type": "display_data"
    }
   ],
   "source": [
    "# Model random forest with optimized parameters\n",
    "rfc_opt = RandomForestClassifier(random_state=1,\n",
    "                                 max_depth=15,\n",
    "                                 min_samples_split=2,\n",
    "                                 min_samples_leaf=1,\n",
    "                                 n_estimators=500)\n",
    "rfc_opt.fit(X_train, y_train)\n",
    "y_pred_rfc = rfc_opt.predict(X_test)\n",
    "\n",
    "#Accuracy Score\n",
    "print('Optimized Random Forest Classifier Accuracy Score: ', accuracy_score(y_test,\n",
    "                                                                            y_pred_rfc))\n",
    "\n",
    "#Plot ROC curve\n",
    "y_pred_prob_rfc = rfc_opt.predict_proba(X_test)[:,1]\n",
    "fpr_rfc, tpr_rfc, threshold_rfc = roc_curve(y_test, y_pred_prob_rfc)\n",
    "\n",
    "print('Optimized Random Forest Classifier ROC/AUC Score: ', roc_auc_score(y_test,\n",
    "                                                                          y_pred_prob_rfc))\n",
    "plt.plot([0,1], [0,1], 'k--')\n",
    "plt.plot(fpr_rfc, tpr_rfc)\n",
    ";"
   ]
  },
  {
   "cell_type": "markdown",
   "metadata": {},
   "source": [
    "#### \\*Best Model\n",
    "The **Random Forest Classifier** ended up edging over the other models with an accuracy score of **85.6%**. \n",
    "<br><br>\n",
    "Unfortunately not much additional insight can be garnered from a random forest, mostly in regards to coefficient importance. That said, we can look at the coefficients through the logistic regression model which doesn't trail far behind with an accuracy score of 84.9%."
   ]
  },
  {
   "cell_type": "code",
   "execution_count": 86,
   "metadata": {},
   "outputs": [
    {
     "data": {
      "text/plain": [
       "''"
      ]
     },
     "execution_count": 86,
     "metadata": {},
     "output_type": "execute_result"
    },
    {
     "data": {
      "image/png": "[encoded data removed]",
      "text/plain": [
       "<Figure size 936x1440 with 1 Axes>"
      ]
     },
     "metadata": {},
     "output_type": "display_data"
    }
   ],
   "source": [
    "coef_dict = {'Variable': list(df_model.drop('match', axis=1).columns),\n",
    "             'Coefficient': logreg_opt.coef_.tolist()[0]}\n",
    "\n",
    "df_coef = pd.DataFrame.from_dict(coef_dict)\n",
    "df_coef = df_coef.sort_values(by='Coefficient')\n",
    "\n",
    "fig = plt.figure(figsize=(13, 20))\n",
    "sns.barplot(x='Coefficient', y='Variable', data=df_coef, palette='RdBu')\n",
    "plt.ylabel('')\n",
    "plt.xlim(-1, 1)\n",
    "plt.title('Logistic Regression VariableCoefficients (Target: \\'Match\\')',\n",
    "          x=0.4, y=1.015)\n",
    ";"
   ]
  },
  {
   "cell_type": "markdown",
   "metadata": {},
   "source": [
    "Negative features have more influence on the model. The **attractiveness** and **humor** ratings of each other were the most positive factors. Generally speaking, the higher the **expectations** each other had coming in, the lower the chance of a match was."
   ]
  },
  {
   "cell_type": "markdown",
   "metadata": {},
   "source": [
    "Somewhat surprisingly, being caucasian was negatively associated with a match, while being asian was positive. Being in the business field apparently boosted your chances, while working in law worked the other way."
   ]
  }
 ],
 "metadata": {
  "kernelspec": {
   "display_name": "Python 3",
   "language": "python",
   "name": "python3"
  },
  "language_info": {
   "codemirror_mode": {
    "name": "ipython",
    "version": 3
   },
   "file_extension": ".py",
   "mimetype": "text/x-python",
   "name": "python",
   "nbconvert_exporter": "python",
   "pygments_lexer": "ipython3",
   "version": "3.6.9"
  }
 },
 "nbformat": 4,
 "nbformat_minor": 2
}
